{
 "cells": [
  {
   "cell_type": "markdown",
   "metadata": {},
   "source": [
    "You are given a string s and an integer k, a k duplicate removal consists of choosing k adjacent and equal letters from s and removing them, causing the left and the right side of the deleted substring to concatenate together.\n",
    "\n",
    "We repeatedly make k duplicate removals on s until we no longer can.\n",
    "\n",
    "Return the final string after all such duplicate removals have been made. It is guaranteed that the answer is unique.\n",
    "\n",
    " \n",
    "\n",
    "Example 1:\n",
    "\n",
    "Input: s = \"abcd\", k = 2\n",
    "Output: \"abcd\"\n",
    "Explanation: There's nothing to delete.\n",
    "Example 2:\n",
    "\n",
    "Input: s = \"deeedbbcccbdaa\", k = 3\n",
    "Output: \"aa\"\n",
    "Explanation: \n",
    "First delete \"eee\" and \"ccc\", get \"ddbbbdaa\"\n",
    "Then delete \"bbb\", get \"dddaa\"\n",
    "Finally delete \"ddd\", get \"aa\""
   ]
  },
  {
   "cell_type": "code",
   "execution_count": 3,
   "metadata": {},
   "outputs": [],
   "source": [
    "class Solution(object):\n",
    "    def removeDuplicates(self, s, k):\n",
    "        \"\"\"\n",
    "        :type s: str\n",
    "        :type k: int\n",
    "        :rtype: str\n",
    "        \"\"\"\n",
    "\n",
    "        stack = []\n",
    "\n",
    "        for c in s:\n",
    "            if stack and stack[-1][0] == c:\n",
    "                stack[-1][1] += 1\n",
    "            else:\n",
    "                stack.append([c,1])\n",
    "            \n",
    "            if stack[-1][1] == k:\n",
    "                stack.pop()\n",
    "\n",
    "        return \"\".join(row[0]*row[1] for row in stack)\n"
   ]
  },
  {
   "cell_type": "code",
   "execution_count": 4,
   "metadata": {},
   "outputs": [
    {
     "data": {
      "text/plain": [
       "'aa'"
      ]
     },
     "execution_count": 4,
     "metadata": {},
     "output_type": "execute_result"
    }
   ],
   "source": [
    "s = \"deeedbbcccbdaa\"\n",
    "k = 3\n",
    "o = Solution()\n",
    "o.removeDuplicates(s,k)"
   ]
  }
 ],
 "metadata": {
  "kernelspec": {
   "display_name": "Python 3",
   "language": "python",
   "name": "python3"
  },
  "language_info": {
   "codemirror_mode": {
    "name": "ipython",
    "version": 3
   },
   "file_extension": ".py",
   "mimetype": "text/x-python",
   "name": "python",
   "nbconvert_exporter": "python",
   "pygments_lexer": "ipython3",
   "version": "3.11.9"
  }
 },
 "nbformat": 4,
 "nbformat_minor": 2
}
