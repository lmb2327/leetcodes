{
 "cells": [
  {
   "cell_type": "markdown",
   "metadata": {},
   "source": [
    "You are given a positive integer n representing the number of nodes of a Directed Acyclic Graph (DAG). The nodes are numbered from 0 to n - 1 (inclusive).\n",
    "\n",
    "You are also given a 2D integer array edges, where edges[i] = [fromi, toi] denotes that there is a unidirectional edge from fromi to toi in the graph.\n",
    "\n",
    "Return a list answer, where answer[i] is the list of ancestors of the ith node, sorted in ascending order.\n",
    "\n",
    "A node u is an ancestor of another node v if u can reach v via a set of edges.\n",
    "\n",
    "Example 1:\n",
    "\n",
    "\n",
    "Input: n = 8, edgeList = [[0,3],[0,4],[1,3],[2,4],[2,7],[3,5],[3,6],[3,7],[4,6]]\n",
    "Output: [[],[],[],[0,1],[0,2],[0,1,3],[0,1,2,3,4],[0,1,2,3]]"
   ]
  },
  {
   "cell_type": "code",
   "execution_count": 52,
   "metadata": {},
   "outputs": [],
   "source": [
    "def getAncestors( n, edges):\n",
    "    \"\"\"\n",
    "    :type n: int\n",
    "    :type edges: List[List[int]]\n",
    "    :rtype: List[List[int]]\n",
    "    \"\"\"\n",
    "    finallist = [[] for _ in range(n)]\n",
    "\n",
    "    for node in range(n):\n",
    "        for edge in edges:\n",
    "            if edge[1] == node:\n",
    "                temp = finallist[edge[0]][:]\n",
    "                temp.append(edge[0])\n",
    "                finallist[node] = finallist[node] + temp\n",
    "\n",
    "        finallist[node].sort()\n",
    "    \n",
    "    for i in range(len(finallist)):\n",
    "        finallist[i] = list(set(finallist[i]))\n",
    "\n",
    "    \n",
    "    return finallist\n",
    "\n",
    "        "
   ]
  },
  {
   "cell_type": "code",
   "execution_count": 53,
   "metadata": {},
   "outputs": [
    {
     "data": {
      "text/plain": [
       "[[], [], [], [0, 1], [0, 2], [0, 1, 3], [0, 1, 2, 3, 4], [0, 1, 2, 3]]"
      ]
     },
     "execution_count": 53,
     "metadata": {},
     "output_type": "execute_result"
    }
   ],
   "source": [
    "n = 8\n",
    "edgeList = [[0,3],[0,4],[1,3],[2,4],[2,7],[3,5],[3,6],[3,7],[4,6]]\n",
    "\n",
    "getAncestors(n,edgeList)\n"
   ]
  },
  {
   "cell_type": "markdown",
   "metadata": {},
   "source": [
    "This code only works if each from a lower number goes to nodes of a higher number, and not the other way around"
   ]
  }
 ],
 "metadata": {
  "kernelspec": {
   "display_name": "Python 3",
   "language": "python",
   "name": "python3"
  },
  "language_info": {
   "codemirror_mode": {
    "name": "ipython",
    "version": 3
   },
   "file_extension": ".py",
   "mimetype": "text/x-python",
   "name": "python",
   "nbconvert_exporter": "python",
   "pygments_lexer": "ipython3",
   "version": "3.11.9"
  }
 },
 "nbformat": 4,
 "nbformat_minor": 2
}
