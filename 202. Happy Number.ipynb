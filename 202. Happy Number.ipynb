{
 "cells": [
  {
   "cell_type": "markdown",
   "metadata": {},
   "source": [
    "easy"
   ]
  },
  {
   "cell_type": "markdown",
   "metadata": {},
   "source": [
    "Write an algorithm to determine if a number n is happy.\n",
    "\n",
    "A happy number is a number defined by the following process:\n",
    "\n",
    "Starting with any positive integer, replace the number by the sum of the squares of its digits.\n",
    "Repeat the process until the number equals 1 (where it will stay), or it loops endlessly in a cycle which does not include 1.\n",
    "Those numbers for which this process ends in 1 are happy.\n",
    "Return true if n is a happy number, and false if not.\n",
    "\n",
    " \n",
    "\n",
    "Example 1:\n",
    "\n",
    "Input: n = 19\n",
    "Output: true\n",
    "Explanation:\n",
    "12 + 92 = 82\n",
    "82 + 22 = 68\n",
    "62 + 82 = 100\n",
    "12 + 02 + 02 = 1"
   ]
  },
  {
   "cell_type": "code",
   "execution_count": 1,
   "metadata": {},
   "outputs": [],
   "source": [
    "class Solution(object):\n",
    "    def isHappy(self, n):\n",
    "        hset = set()\n",
    "        while n != 1:\n",
    "            if n in hset: return False\n",
    "            hset.add(n)\n",
    "            n = sum([int(i) ** 2 for i in str(n)])\n",
    "        else:\n",
    "            return True"
   ]
  },
  {
   "cell_type": "code",
   "execution_count": 2,
   "metadata": {},
   "outputs": [
    {
     "name": "stdout",
     "output_type": "stream",
     "text": [
      "True\n"
     ]
    }
   ],
   "source": [
    "n = 19\n",
    "sol = Solution()\n",
    "print(sol.isHappy(n))\n"
   ]
  }
 ],
 "metadata": {
  "kernelspec": {
   "display_name": "Python 3",
   "language": "python",
   "name": "python3"
  },
  "language_info": {
   "codemirror_mode": {
    "name": "ipython",
    "version": 3
   },
   "file_extension": ".py",
   "mimetype": "text/x-python",
   "name": "python",
   "nbconvert_exporter": "python",
   "pygments_lexer": "ipython3",
   "version": "3.11.9"
  }
 },
 "nbformat": 4,
 "nbformat_minor": 2
}
