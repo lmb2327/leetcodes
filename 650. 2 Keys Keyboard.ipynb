{
 "cells": [
  {
   "cell_type": "markdown",
   "metadata": {},
   "source": [
    "medium"
   ]
  },
  {
   "cell_type": "markdown",
   "metadata": {},
   "source": [
    "There is only one character 'A' on the screen of a notepad. You can perform one of two operations on this notepad for each step:\n",
    "\n",
    "Copy All: You can copy all the characters present on the screen (a partial copy is not allowed).\n",
    "Paste: You can paste the characters which are copied last time.\n",
    "Given an integer n, return the minimum number of operations to get the character 'A' exactly n times on the screen.\n",
    "\n",
    " \n",
    "\n",
    "Example 1:\n",
    "\n",
    "Input: n = 3\n",
    "Output: 3\n",
    "Explanation: Initially, we have one character 'A'.\n",
    "In step 1, we use Copy All operation.\n",
    "In step 2, we use Paste operation to get 'AA'.\n",
    "In step 3, we use Paste operation to get 'AAA'."
   ]
  },
  {
   "cell_type": "code",
   "execution_count": 20,
   "metadata": {},
   "outputs": [],
   "source": [
    "class Solution:\n",
    "    def minSteps(self, n):\n",
    "        if n == 1:\n",
    "            return 0\n",
    "        \n",
    "        steps = 0\n",
    "        factor = 2\n",
    "        \n",
    "        while n > 1:\n",
    "            while n % factor == 0:\n",
    "                steps += factor\n",
    "                n //= factor\n",
    "            factor += 1\n",
    "            \n",
    "        return steps"
   ]
  },
  {
   "cell_type": "code",
   "execution_count": 21,
   "metadata": {},
   "outputs": [
    {
     "data": {
      "text/plain": [
       "7"
      ]
     },
     "execution_count": 21,
     "metadata": {},
     "output_type": "execute_result"
    }
   ],
   "source": [
    "n = 12\n",
    "s = Solution()\n",
    "s.minSteps(n)\n"
   ]
  }
 ],
 "metadata": {
  "kernelspec": {
   "display_name": "Python 3",
   "language": "python",
   "name": "python3"
  },
  "language_info": {
   "codemirror_mode": {
    "name": "ipython",
    "version": 3
   },
   "file_extension": ".py",
   "mimetype": "text/x-python",
   "name": "python",
   "nbconvert_exporter": "python",
   "pygments_lexer": "ipython3",
   "version": "3.11.9"
  }
 },
 "nbformat": 4,
 "nbformat_minor": 2
}
