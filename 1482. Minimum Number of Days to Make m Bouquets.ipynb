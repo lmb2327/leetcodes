{
 "cells": [
  {
   "cell_type": "markdown",
   "metadata": {},
   "source": [
    "You are given an integer array bloomDay, an integer m and an integer k.\n",
    "\n",
    "You want to make m bouquets. To make a bouquet, you need to use k adjacent flowers from the garden.\n",
    "\n",
    "The garden consists of n flowers, the ith flower will bloom in the bloomDay[i] and then can be used in exactly one bouquet.\n",
    "\n",
    "Return the minimum number of days you need to wait to be able to make m bouquets from the garden. If it is impossible to make m bouquets return -1.\n",
    "\n",
    " \n",
    "\n",
    "Example 1:\n",
    "\n",
    "Input: bloomDay = [1,10,3,10,2], m = 3, k = 1\n",
    "Output: 3\n",
    "Explanation: Let us see what happened in the first three days. x means flower bloomed and _ means flower did not bloom in the garden.\n",
    "We need 3 bouquets each should contain 1 flower.\n",
    "After day 1: [x, _, _, _, _]   // we can only make one bouquet.\n",
    "After day 2: [x, _, _, _, x]   // we can only make two bouquets.\n",
    "After day 3: [x, _, x, _, x]   // we can make 3 bouquets. The answer is 3.\n",
    "Example 2:\n",
    "\n",
    "Input: bloomDay = [1,10,3,10,2], m = 3, k = 2\n",
    "Output: -1\n",
    "Explanation: We need 3 bouquets each has 2 flowers, that means we need 6 flowers. We only have 5 flowers so it is impossible to get the needed bouquets and we return -1.\n",
    "Example 3:\n",
    "\n",
    "Input: bloomDay = [7,7,7,7,12,7,7], m = 2, k = 3\n",
    "Output: 12\n",
    "Explanation: We need 2 bouquets each should have 3 flowers.\n",
    "Here is the garden after the 7 and 12 days:\n",
    "After day 7: [x, x, x, x, _, x, x]\n",
    "We can make one bouquet of the first three flowers that bloomed. We cannot make another bouquet from the last three flowers that bloomed because they are not adjacent.\n",
    "After day 12: [x, x, x, x, x, x, x]\n",
    "It is obvious that we can make two bouquets in different ways.\n",
    " \n",
    "\n",
    "Constraints:\n",
    "\n",
    "bloomDay.length == n\n",
    "1 <= n <= 105\n",
    "1 <= bloomDay[i] <= 109\n",
    "1 <= m <= 106\n",
    "1 <= k <= n"
   ]
  },
  {
   "cell_type": "code",
   "execution_count": 56,
   "metadata": {},
   "outputs": [],
   "source": [
    "def minDays(bloomDay, m, k):\n",
    "        \n",
    "        #intialize answer at -1 and the max amount of days is max()\n",
    "        ans = -1\n",
    "        start, end = 0, max(bloomDay)\n",
    "\n",
    "\n",
    "        def numberOfBouquets(bloomDay, mid, k):\n",
    "            ans, cnt = 0, 0\n",
    "            #for every flower\n",
    "            for day in bloomDay:\n",
    "\n",
    "                #if we are below the midpoint, there is enough time for the flower to grow, we add the flower\n",
    "                if day <= mid:\n",
    "                    cnt += 1\n",
    "                else:\n",
    "                    #If there is not enough time, we reset the count to 0 since we cant form a bouquet\n",
    "                    cnt = 0\n",
    "\n",
    "                #if we have enough flowers, we have a bouquet completed, restart the count at 0\n",
    "                if cnt == k:\n",
    "                    ans += 1\n",
    "                    cnt = 0\n",
    "            return ans\n",
    "\n",
    "        #find the middle point in days\n",
    "        #This is some sort of bissection method, splitting each iteration in the middle\n",
    "        while start <= end:\n",
    "            mid = (start + end) // 2\n",
    "\n",
    "            #if we manage to have enough bouquets, we have solved the problem\n",
    "            #the answer is the midpoint\n",
    "            if numberOfBouquets(bloomDay, mid, k) >= m:\n",
    "                ans = mid\n",
    "                end = mid - 1\n",
    "            else:\n",
    "                #if we dont have enough bouquets, we will need more days to wait for the flowers to grow,\n",
    "                # We move the start to mid + 1 and we will then recalculate the new mid point (bissection)\n",
    "                start = mid + 1\n",
    "\n",
    "        return ans"
   ]
  },
  {
   "cell_type": "code",
   "execution_count": 57,
   "metadata": {},
   "outputs": [
    {
     "data": {
      "text/plain": [
       "12"
      ]
     },
     "execution_count": 57,
     "metadata": {},
     "output_type": "execute_result"
    }
   ],
   "source": [
    "bloomDay = [7,7,7,7,12,7,7]\n",
    "m = 2\n",
    "k = 3\n",
    "\n",
    "minDays(bloomDay,m,k)"
   ]
  },
  {
   "cell_type": "markdown",
   "metadata": {},
   "source": [
    "Time complexity: O(log(max(bloomDay))\n",
    "Space complexity: O(1)"
   ]
  }
 ],
 "metadata": {
  "kernelspec": {
   "display_name": "Python 3",
   "language": "python",
   "name": "python3"
  },
  "language_info": {
   "codemirror_mode": {
    "name": "ipython",
    "version": 3
   },
   "file_extension": ".py",
   "mimetype": "text/x-python",
   "name": "python",
   "nbconvert_exporter": "python",
   "pygments_lexer": "ipython3",
   "version": "3.11.9"
  }
 },
 "nbformat": 4,
 "nbformat_minor": 2
}
