{
 "cells": [
  {
   "cell_type": "markdown",
   "metadata": {},
   "source": [
    "You are given a 0-indexed string s and a dictionary of words dictionary. You have to break s into one or more non-overlapping substrings such that each substring is present in dictionary. There may be some extra characters in s which are not present in any of the substrings.\n",
    "\n",
    "Return the minimum number of extra characters left over if you break up s optimally.\n",
    "\n",
    " \n",
    "\n",
    "Example 1:\n",
    "\n",
    "Input: s = \"leetscode\", dictionary = [\"leet\",\"code\",\"leetcode\"]\n",
    "Output: 1\n",
    "Explanation: We can break s in two substrings: \"leet\" from index 0 to 3 and \"code\" from index 5 to 8. There is only 1 unused character (at index 4), so we return 1."
   ]
  },
  {
   "cell_type": "code",
   "execution_count": 3,
   "metadata": {},
   "outputs": [],
   "source": [
    "class Solution(object):\n",
    "    def minExtraChar(self, s, dictionary):\n",
    "        \"\"\"\n",
    "        :type s: str\n",
    "        :type dictionary: List[str]\n",
    "        :rtype: int\n",
    "        \"\"\"\n",
    "\n",
    "        words = set(dictionary)\n",
    "        dp = {len(s):0}\n",
    "\n",
    "        def dfs(i):\n",
    "\n",
    "            if i in dp:\n",
    "                return dp[i]\n",
    "\n",
    "            \n",
    "            res = 1 + dfs(i+1) #skips current char\n",
    "            for j in range(i,len(s)):\n",
    "                if s[i:j+1] in words:\n",
    "                    res = min(res,dfs(j+1))\n",
    "            dp[i] = res\n",
    "            return res\n",
    "        \n",
    "        return dfs(0)\n",
    "\n",
    "\n",
    "\n",
    "\n",
    "\n",
    " \n",
    "        "
   ]
  },
  {
   "cell_type": "code",
   "execution_count": 4,
   "metadata": {},
   "outputs": [
    {
     "data": {
      "text/plain": [
       "1"
      ]
     },
     "execution_count": 4,
     "metadata": {},
     "output_type": "execute_result"
    }
   ],
   "source": [
    "s = \"leetscode\"\n",
    "dictionary = [\"leet\",\"code\",\"leetcode\"]\n",
    "o = Solution()\n",
    "o.minExtraChar(s,dictionary)"
   ]
  }
 ],
 "metadata": {
  "kernelspec": {
   "display_name": "Python 3",
   "language": "python",
   "name": "python3"
  },
  "language_info": {
   "codemirror_mode": {
    "name": "ipython",
    "version": 3
   },
   "file_extension": ".py",
   "mimetype": "text/x-python",
   "name": "python",
   "nbconvert_exporter": "python",
   "pygments_lexer": "ipython3",
   "version": "3.11.9"
  }
 },
 "nbformat": 4,
 "nbformat_minor": 2
}
