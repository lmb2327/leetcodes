{
 "cells": [
  {
   "cell_type": "markdown",
   "metadata": {},
   "source": [
    "medium"
   ]
  },
  {
   "cell_type": "markdown",
   "metadata": {},
   "source": [
    "You are given an integer array nums. You are initially positioned at the array's first index, and each element in the array represents your maximum jump length at that position.\n",
    "\n",
    "Return true if you can reach the last index, or false otherwise.\n",
    "\n",
    " \n",
    "\n",
    "Example 1:\n",
    "\n",
    "Input: nums = [2,3,1,1,4]\n",
    "Output: true\n",
    "Explanation: Jump 1 step from index 0 to 1, then 3 steps to the last index.\n",
    "Example 2:\n",
    "\n",
    "Input: nums = [3,2,1,0,4]\n",
    "Output: false\n",
    "Explanation: You will always arrive at index 3 no matter what. Its maximum jump length is 0, which makes it impossible to reach the last index."
   ]
  },
  {
   "cell_type": "code",
   "execution_count": 55,
   "metadata": {},
   "outputs": [],
   "source": [
    "class Solution(object):\n",
    "    def canJump(nums):\n",
    "        \"\"\"\n",
    "        :type nums: List[int]\n",
    "        :rtype: bool\n",
    "        \"\"\"\n",
    "        ##This solution works for me but does not work on leetcode\n",
    "        n = len(nums) - 1\n",
    "        mem = [\"false\"]*(n+1)\n",
    "        mem[-1] = \"true\"\n",
    "\n",
    "        for i in range(1,len(nums)):\n",
    "            curr = nums[-(i + 1)]\n",
    "\n",
    "            for j in range(1,curr+1):\n",
    "\n",
    "                #this is the line that doesnt work for leetcode for some reason\n",
    "                if mem[n - i + j] == \"true\":\n",
    "                    mem[n-i] = \"true\"\n",
    "            \n",
    "            \n",
    "        return mem[0]\n"
   ]
  },
  {
   "cell_type": "code",
   "execution_count": 56,
   "metadata": {},
   "outputs": [
    {
     "data": {
      "text/plain": [
       "'false'"
      ]
     },
     "execution_count": 56,
     "metadata": {},
     "output_type": "execute_result"
    }
   ],
   "source": [
    "nums = [1,2,1,1,1,1,0,3]\n",
    "Solution.canJump(nums)"
   ]
  },
  {
   "cell_type": "markdown",
   "metadata": {},
   "source": [
    "leetcode solution"
   ]
  },
  {
   "cell_type": "code",
   "execution_count": 57,
   "metadata": {},
   "outputs": [],
   "source": [
    "class Solution(object):\n",
    "    def canJump(self, nums):\n",
    "        \"\"\"\n",
    "        :type nums: List[int]\n",
    "        :rtype: bool\n",
    "        \"\"\"\n",
    "        last_position = len(nums)-1\n",
    "        \n",
    "        for i in range(len(nums)-2,-1,-1): # Iterate backwards from second to last item until the first item\n",
    "            if (i + nums[i]) >= last_position: # If this index has jump count which can reach to or beyond the last position\n",
    "                last_position = i # Since we just need to reach to this new index\n",
    "        \n",
    "        return last_position == 0\t\n"
   ]
  }
 ],
 "metadata": {
  "kernelspec": {
   "display_name": "Python 3",
   "language": "python",
   "name": "python3"
  },
  "language_info": {
   "codemirror_mode": {
    "name": "ipython",
    "version": 3
   },
   "file_extension": ".py",
   "mimetype": "text/x-python",
   "name": "python",
   "nbconvert_exporter": "python",
   "pygments_lexer": "ipython3",
   "version": "3.11.9"
  }
 },
 "nbformat": 4,
 "nbformat_minor": 2
}
