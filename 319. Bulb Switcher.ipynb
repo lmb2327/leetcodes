{
 "cells": [
  {
   "cell_type": "markdown",
   "metadata": {},
   "source": [
    "medium"
   ]
  },
  {
   "cell_type": "markdown",
   "metadata": {},
   "source": [
    "There are n bulbs that are initially off. You first turn on all the bulbs, then you turn off every second bulb.\n",
    "\n",
    "On the third round, you toggle every third bulb (turning on if it's off or turning off if it's on). For the ith round, you toggle every i bulb. For the nth round, you only toggle the last bulb.\n",
    "\n",
    "Return the number of bulbs that are on after n rounds.\n",
    "\n",
    "Input: n = 3\n",
    "Output: 1\n",
    "Explanation: At first, the three bulbs are [off, off, off].\n",
    "After the first round, the three bulbs are [on, on, on].\n",
    "After the second round, the three bulbs are [on, off, on].\n",
    "After the third round, the three bulbs are [on, off, off]. \n",
    "So you should return 1 because there is only one bulb is on."
   ]
  },
  {
   "cell_type": "code",
   "execution_count": 5,
   "metadata": {},
   "outputs": [],
   "source": [
    "class Solution(object):\n",
    "    def bulbSwitch(n):\n",
    "        \"\"\"\n",
    "        :type n: int\n",
    "        :rtype: int\n",
    "        \"\"\"\n",
    "        return int(n**0.5)"
   ]
  },
  {
   "cell_type": "code",
   "execution_count": 6,
   "metadata": {},
   "outputs": [
    {
     "data": {
      "text/plain": [
       "1"
      ]
     },
     "execution_count": 6,
     "metadata": {},
     "output_type": "execute_result"
    }
   ],
   "source": [
    "n=3\n",
    "Solution.bulbSwitch(n)"
   ]
  },
  {
   "cell_type": "markdown",
   "metadata": {},
   "source": [
    "Below are my step by step thought process. Hope it helps\n",
    "\n",
    "Observation #1:\n",
    "A bulb is ON if it is toggled odd times: (ON), (ON -> OFF -> ON), (ON -> OFF -> ON -> OFF -> ON) ...\n",
    "A bulb is OFF if it is toggled even times: (ON -> OFF), (ON -> OFF -> ON -> OFF ) ...\n",
    "\n",
    "Observation #2:\n",
    "Once we reach and toggle the i-th bulb, it will never be touched anymore.\n",
    "\n",
    "for exmaple, let n = 5 ( changes in each round denoted as bold ), initial state is all OFF:\n",
    "1-th round : ON, ON, ON, ON, ON\n",
    "2-nd round: ON, OFF, ON, OFF, ON\n",
    "3-rd round : ON, OFF, OFF, OFF, ON\n",
    "4-th round : ON, OFF, OFF, ON, ON\n",
    "5-th round : ON, OFF, OFF, ON, OFF\n",
    "\n",
    "You can see that, after each round, all bulbs before that round will not be touched anymore.\n",
    "\n",
    "So, given a bulb at position X, how do I know it will be toggled EVEN/ODD times ?\n",
    "Answer: We can find the number of divisors of X.\n",
    "\n",
    "for example, if the position of a bulb is 3, its divisor is [1,3], that mean we will toggle the 3-rd bulb at 1-st round and 3-rd round:\n",
    "Combine the observation above,\n",
    "at 3-rd round, the third bulb will have been toggeld even times ( [1,3] ), so it is OFF. And it will not be changed later on round.\n",
    "at 5-th round, the fifth bulb will have been toggled even times ( [1,5] ), so it is OFF. And it will not be changed later on round.\n",
    "\n",
    "Suppose we have a func to get all divisors of i : getDivisors(int), a simple algorithm can be deduced:\n",
    "for i = 1..n, if getDivisors(i) % 2 == 1, count++;\n",
    "We loop through all positions, if it has odd number of divisors, it is ON and hence count + 1.\n",
    "\n",
    "Unfortunately, it will timeout. How to optimize ?\n",
    "\n",
    "Observation #3:\n",
    "Divisors always come in pair. For example:\n",
    "1: [1,1] --- 2: [1,2] --- 3: [1,3] --- 4: [1,4] [2,2] --- 5:[1,5] --- 6:[1,6][2,3] --- 7:[1,7]\n",
    "8: [1,8][2,4] --- 9:[1,9][3,3]\n",
    "\n",
    "In above examples, we know that:\n",
    "Only when i has perfect square root, its number of divisors is ODD, because it contains duplicated divisor. In above example,\n",
    "4: [1,2,4] --- 9: [1,3,9]\n",
    "You can pick any number to examine yourself.\n",
    "\n",
    "Here comes a better algorithm:\n",
    "for i = 1...n, if i^2 <= n, count++ ; if i^2 > n, break;\n",
    "We loop through all position, if i^2 is <= n, that means there exists a valid bulb which has perfect square root i, and we need to count that i^2, so count + 1. If the i^2 exceed n, we can terminate it because we have found all i with perfect square root within n already.\n",
    "\n",
    "Many of you might have seen the answer, so why the answer can be simply written as Math.sqrt(n) ?\n",
    "consider n = 9, the process of aforementioned algorithm will be:\n",
    "check (1 * 1 ) <= 9, count++\n",
    "check (2 * 2 ) <= 9, count++;\n",
    "check (3 * 3) <= 9, count++;\n",
    "check (4 * 4) > 9, break;\n",
    "\n",
    "We can say, if square root of 9 is 3, that mean 1^2 and 2^2 must exists for n = 9. Hence, the Math.sqrt(i) reflect this fact.\n",
    "\n",
    "so if we take the square root of n and round it down to the nearest int, we know that there will be exactly that amount of numbers lower than n for wich their **2 is smaller than n"
   ]
  }
 ],
 "metadata": {
  "kernelspec": {
   "display_name": "Python 3",
   "language": "python",
   "name": "python3"
  },
  "language_info": {
   "codemirror_mode": {
    "name": "ipython",
    "version": 3
   },
   "file_extension": ".py",
   "mimetype": "text/x-python",
   "name": "python",
   "nbconvert_exporter": "python",
   "pygments_lexer": "ipython3",
   "version": "3.11.9"
  }
 },
 "nbformat": 4,
 "nbformat_minor": 2
}
