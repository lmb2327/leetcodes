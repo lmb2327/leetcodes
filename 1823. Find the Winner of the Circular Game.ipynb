{
 "cells": [
  {
   "cell_type": "markdown",
   "metadata": {},
   "source": [
    "medium"
   ]
  },
  {
   "cell_type": "markdown",
   "metadata": {},
   "source": [
    "There are n friends that are playing a game. The friends are sitting in a circle and are numbered from 1 to n in clockwise order. More formally, moving clockwise from the ith friend brings you to the (i+1)th friend for 1 <= i < n, and moving clockwise from the nth friend brings you to the 1st friend.\n",
    "\n",
    "The rules of the game are as follows:\n",
    "\n",
    "Start at the 1st friend.\n",
    "Count the next k friends in the clockwise direction including the friend you started at. The counting wraps around the circle and may count some friends more than once.\n",
    "The last friend you counted leaves the circle and loses the game.\n",
    "If there is still more than one friend in the circle, go back to step 2 starting from the friend immediately clockwise of the friend who just lost and repeat.\n",
    "Else, the last friend in the circle wins the game.\n",
    "Given the number of friends, n, and an integer k, return the winner of the game."
   ]
  },
  {
   "cell_type": "code",
   "execution_count": 80,
   "metadata": {},
   "outputs": [],
   "source": [
    "def findTheWinner(n, k):\n",
    "    \"\"\"\n",
    "    :type n: int\n",
    "    :type k: int\n",
    "    :rtype: int\n",
    "    \"\"\"\n",
    "\n",
    "    l = list(range(1,n+1))\n",
    "    if len(l) == 1:\n",
    "        return l[0]\n",
    "\n",
    "    while len(l) > 2:\n",
    "\n",
    "        idx = k%n - 1\n",
    "        n -= 1\n",
    "        left = l[:idx]\n",
    "        right = l[idx+1:]\n",
    "        del l[idx]\n",
    "        l = right + left\n",
    "\n",
    "        if k%(n+1) == 0:\n",
    "            l = left\n",
    "\n",
    "    if k%2 == 0:\n",
    "        return l[0]\n",
    "    else:\n",
    "        return l[1]\n",
    "                    "
   ]
  },
  {
   "cell_type": "markdown",
   "metadata": {},
   "source": [
    "Github solution"
   ]
  },
  {
   "cell_type": "code",
   "execution_count": 81,
   "metadata": {},
   "outputs": [],
   "source": [
    "def findTheWinner(n, k):\n",
    "    friends = list(range(1, n+1))\n",
    "    current_position = 0\n",
    "\n",
    "    # Till 1 friend is left\n",
    "    while n > 1:\n",
    "        # Current position after k move, (k-1) to include current friend.\n",
    "        current_position = (current_position + (k-1)) % n\n",
    "        # Remove picked friend\n",
    "        friends.pop(current_position)\n",
    "        # Decrement total friends\n",
    "        n -= 1\n",
    "        print(friends)\n",
    "\n",
    "    # Return last friend\n",
    "    return friends[0]"
   ]
  },
  {
   "cell_type": "code",
   "execution_count": 82,
   "metadata": {},
   "outputs": [
    {
     "name": "stdout",
     "output_type": "stream",
     "text": [
      "[1, 3, 4, 5]\n",
      "[1, 3, 5]\n",
      "[3, 5]\n",
      "[3]\n"
     ]
    },
    {
     "data": {
      "text/plain": [
       "3"
      ]
     },
     "execution_count": 82,
     "metadata": {},
     "output_type": "execute_result"
    }
   ],
   "source": [
    "findTheWinner(5,2)"
   ]
  }
 ],
 "metadata": {
  "kernelspec": {
   "display_name": "Python 3",
   "language": "python",
   "name": "python3"
  },
  "language_info": {
   "codemirror_mode": {
    "name": "ipython",
    "version": 3
   },
   "file_extension": ".py",
   "mimetype": "text/x-python",
   "name": "python",
   "nbconvert_exporter": "python",
   "pygments_lexer": "ipython3",
   "version": "3.11.9"
  }
 },
 "nbformat": 4,
 "nbformat_minor": 2
}
