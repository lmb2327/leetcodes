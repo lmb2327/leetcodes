{
 "cells": [
  {
   "cell_type": "markdown",
   "metadata": {},
   "source": [
    "Medium"
   ]
  },
  {
   "cell_type": "markdown",
   "metadata": {},
   "source": [
    "Given an array of integers nums and an integer k. A continuous subarray is called nice if there are k odd numbers on it.\n",
    "\n",
    "Return the number of nice sub-arrays.\n",
    "\n",
    " \n",
    "\n",
    "Example 1:\n",
    "\n",
    "Input: nums = [1,1,2,1,1], k = 3\n",
    "Output: 2\n",
    "Explanation: The only sub-arrays with 3 odd numbers are [1,1,2,1] and [1,2,1,1].\n",
    "Example 2:\n",
    "\n",
    "Input: nums = [2,4,6], k = 1\n",
    "Output: 0\n",
    "Explanation: There are no odd numbers in the array.\n",
    "Example 3:\n",
    "\n",
    "Input: nums = [2,2,2,1,2,2,1,2,2,2], k = 2\n",
    "Output: 16"
   ]
  },
  {
   "cell_type": "code",
   "execution_count": 5,
   "metadata": {},
   "outputs": [],
   "source": [
    "def numberOfSubarrays(nums, k):\n",
    "    \"\"\"\n",
    "    :type nums: List[int]\n",
    "    :type k: int\n",
    "    :rtype: int\n",
    "    \"\"\"\n",
    "    i = 0\n",
    "    j = 0\n",
    "    odd_count = 0\n",
    "    sub_array_count = 0\n",
    "    temp = 0\n",
    "\n",
    "    while j < len(nums):\n",
    "        if nums[j] % 2 == 1:\n",
    "            odd_count += 1\n",
    "            temp = 0\n",
    "        \n",
    "        while odd_count == k:\n",
    "            temp += 1\n",
    "            if nums[i] % 2 == 1:\n",
    "                odd_count -= 1\n",
    "            i += 1\n",
    "        \n",
    "        sub_array_count += temp\n",
    "        j += 1\n",
    "    \n",
    "    return sub_array_count\n"
   ]
  },
  {
   "cell_type": "code",
   "execution_count": 6,
   "metadata": {},
   "outputs": [
    {
     "data": {
      "text/plain": [
       "16"
      ]
     },
     "execution_count": 6,
     "metadata": {},
     "output_type": "execute_result"
    }
   ],
   "source": [
    "nums = [2,2,2,1,2,2,1,2,2,2]\n",
    "k = 2\n",
    "numberOfSubarrays(nums,k)"
   ]
  },
  {
   "cell_type": "markdown",
   "metadata": {},
   "source": [
    "Assume we use the Input: nums = [1,1,2,1,1], k = 3\n",
    "\n",
    "Say we have this as the input.  \n",
    "We start with i,j at index 0.  \n",
    "We go through the loop until odd_count = 3, ie when j == 3.  \n",
    "We increment the sub array count by 1, and remove an odd count since we move i to the right. We move j to the right.  \n",
    "This makes it so i = 1 and j = 4, which is another nice sub array. increment the count by 1.  \n",
    "Then j += 1 make j = len(nums) so we return the result.  "
   ]
  }
 ],
 "metadata": {
  "kernelspec": {
   "display_name": "Python 3",
   "language": "python",
   "name": "python3"
  },
  "language_info": {
   "codemirror_mode": {
    "name": "ipython",
    "version": 3
   },
   "file_extension": ".py",
   "mimetype": "text/x-python",
   "name": "python",
   "nbconvert_exporter": "python",
   "pygments_lexer": "ipython3",
   "version": "3.11.9"
  }
 },
 "nbformat": 4,
 "nbformat_minor": 2
}
