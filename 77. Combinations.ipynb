{
 "cells": [
  {
   "cell_type": "markdown",
   "metadata": {},
   "source": [
    "medium"
   ]
  },
  {
   "cell_type": "markdown",
   "metadata": {},
   "source": [
    "Given two integers n and k, return all possible combinations of k numbers chosen from the range [1, n].\n",
    "\n",
    "You may return the answer in any order.\n",
    "\n",
    " \n",
    "\n",
    "Example 1:\n",
    "\n",
    "Input: n = 4, k = 2\n",
    "Output: [[1,2],[1,3],[1,4],[2,3],[2,4],[3,4]]\n",
    "Explanation: There are 4 choose 2 = 6 total combinations.\n",
    "Note that combinations are unordered, i.e., [1,2] and [2,1] are considered to be the same combination.\n",
    "Example 2:\n",
    "\n",
    "Input: n = 1, k = 1\n",
    "Output: [[1]]\n",
    "Explanation: There is 1 choose 1 = 1 total combination.\n",
    " "
   ]
  },
  {
   "cell_type": "code",
   "execution_count": 42,
   "metadata": {},
   "outputs": [],
   "source": [
    "import math\n",
    "class Solution(object):\n",
    "    def combine(n, k):\n",
    "        \"\"\"\n",
    "        :type n: int\n",
    "        :type k: int\n",
    "        :rtype: List[List[int]]\n",
    "        \"\"\"\n",
    "        #the number of combinations is n choose k\n",
    "        ans = []\n",
    "        curr = []\n",
    "        l = list(range(1,n+1))\n",
    "\n",
    "        def backtrack(idx,curr):\n",
    "\n",
    "            if len(curr) == k:\n",
    "                ans.append(curr[:])\n",
    "                return\n",
    "            if idx == n:\n",
    "                return\n",
    "            \n",
    "            curr.append(l[idx])\n",
    "            backtrack(idx+1,curr)\n",
    "            curr.pop()\n",
    "            backtrack(idx+1,curr)\n",
    "            \n",
    "        backtrack(0,[])\n",
    "        return ans  \n",
    "        "
   ]
  },
  {
   "cell_type": "code",
   "execution_count": 43,
   "metadata": {},
   "outputs": [
    {
     "name": "stdout",
     "output_type": "stream",
     "text": [
      "[]\n",
      "0\n",
      "[1]\n",
      "1\n",
      "[1, 2]\n",
      "2\n",
      "[1]\n",
      "2\n",
      "[1, 3]\n",
      "3\n",
      "[1]\n",
      "3\n",
      "[1, 4]\n",
      "4\n",
      "[1]\n",
      "4\n",
      "[]\n",
      "1\n",
      "[2]\n",
      "2\n",
      "[2, 3]\n",
      "3\n",
      "[2]\n",
      "3\n",
      "[2, 4]\n",
      "4\n",
      "[2]\n",
      "4\n",
      "[]\n",
      "2\n",
      "[3]\n",
      "3\n",
      "[3, 4]\n",
      "4\n",
      "[3]\n",
      "4\n",
      "[]\n",
      "3\n",
      "[4]\n",
      "4\n",
      "[]\n",
      "4\n"
     ]
    },
    {
     "data": {
      "text/plain": [
       "[[1, 2], [1, 3], [1, 4], [2, 3], [2, 4], [3, 4]]"
      ]
     },
     "execution_count": 43,
     "metadata": {},
     "output_type": "execute_result"
    }
   ],
   "source": [
    "n = 4\n",
    "k = 2\n",
    "\n",
    "Solution.combine(n,k)"
   ]
  },
  {
   "cell_type": "code",
   "execution_count": null,
   "metadata": {},
   "outputs": [],
   "source": []
  }
 ],
 "metadata": {
  "kernelspec": {
   "display_name": "Python 3",
   "language": "python",
   "name": "python3"
  },
  "language_info": {
   "codemirror_mode": {
    "name": "ipython",
    "version": 3
   },
   "file_extension": ".py",
   "mimetype": "text/x-python",
   "name": "python",
   "nbconvert_exporter": "python",
   "pygments_lexer": "ipython3",
   "version": "3.11.9"
  }
 },
 "nbformat": 4,
 "nbformat_minor": 2
}
