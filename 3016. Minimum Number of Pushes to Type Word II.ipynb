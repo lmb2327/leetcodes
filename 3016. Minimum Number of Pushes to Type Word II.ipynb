{
 "cells": [
  {
   "cell_type": "markdown",
   "metadata": {},
   "source": [
    "medium"
   ]
  },
  {
   "cell_type": "markdown",
   "metadata": {},
   "source": [
    "You are given a string word containing lowercase English letters.\n",
    "\n",
    "Telephone keypads have keys mapped with distinct collections of lowercase English letters, which can be used to form words by pushing them. For example, the key 2 is mapped with [\"a\",\"b\",\"c\"], we need to push the key one time to type \"a\", two times to type \"b\", and three times to type \"c\" .\n",
    "\n",
    "It is allowed to remap the keys numbered 2 to 9 to distinct collections of letters. The keys can be remapped to any amount of letters, but each letter must be mapped to exactly one key. You need to find the minimum number of times the keys will be pushed to type the string word.\n",
    "\n",
    "Return the minimum number of pushes needed to type word after remapping the keys.\n",
    "\n",
    "An example mapping of letters to keys on a telephone keypad is given below. Note that 1, *, #, and 0 do not map to any letters.\n",
    "\n",
    "\n",
    " \n",
    "\n",
    "Example 1:\n",
    "\n",
    "\n",
    "Input: word = \"abcde\"\n",
    "Output: 5\n",
    "Explanation: The remapped keypad given in the image provides the minimum cost.\n",
    "\"a\" -> one push on key 2\n",
    "\"b\" -> one push on key 3\n",
    "\"c\" -> one push on key 4\n",
    "\"d\" -> one push on key 5\n",
    "\"e\" -> one push on key 6\n",
    "Total cost is 1 + 1 + 1 + 1 + 1 = 5.\n",
    "It can be shown that no other mapping can provide a lower cost."
   ]
  },
  {
   "cell_type": "code",
   "execution_count": 94,
   "metadata": {},
   "outputs": [],
   "source": [
    "def minimumPushes(word: str) -> int:\n",
    "    res = i = 0\n",
    "    \n",
    "    #Count the occurence of each individual letter in the word\n",
    "    counter = []\n",
    "    letters = set(word)\n",
    "    for j in letters:\n",
    "        counter.append(word.count(j))\n",
    "\n",
    "    #sort the list from largest to smallest and iterate through it\n",
    "    for n in sorted(counter, reverse=True):\n",
    "        #for the first 8, ie i < 8, i //8 will be 0, so for the 8 first letters that are present the most often, we only click onces per occurence\n",
    "        #for the 9th letterm i == 8 so i // 8 gives 1 so we will click twice per occurence, etc ,etc\n",
    "        res += n * (i // 8 + 1)\n",
    "        i += 1\n",
    "    return res"
   ]
  },
  {
   "cell_type": "code",
   "execution_count": 95,
   "metadata": {},
   "outputs": [
    {
     "data": {
      "text/plain": [
       "24"
      ]
     },
     "execution_count": 95,
     "metadata": {},
     "output_type": "execute_result"
    }
   ],
   "source": [
    "word = \"aabbccddeeffgghhiiiiii\"\n",
    "minimumPushes(word)"
   ]
  }
 ],
 "metadata": {
  "kernelspec": {
   "display_name": "Python 3",
   "language": "python",
   "name": "python3"
  },
  "language_info": {
   "codemirror_mode": {
    "name": "ipython",
    "version": 3
   },
   "file_extension": ".py",
   "mimetype": "text/x-python",
   "name": "python",
   "nbconvert_exporter": "python",
   "pygments_lexer": "ipython3",
   "version": "3.11.9"
  }
 },
 "nbformat": 4,
 "nbformat_minor": 2
}
