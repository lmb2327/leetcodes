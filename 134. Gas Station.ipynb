{
 "cells": [
  {
   "cell_type": "markdown",
   "metadata": {},
   "source": [
    "There are n gas stations along a circular route, where the amount of gas at the ith station is gas[i].\n",
    "\n",
    "You have a car with an unlimited gas tank and it costs cost[i] of gas to travel from the ith station to its next (i + 1)th station. You begin the journey with an empty tank at one of the gas stations.\n",
    "\n",
    "Given two integer arrays gas and cost, return the starting gas station's index if you can travel around the circuit once in the clockwise direction, otherwise return -1. If there exists a solution, it is guaranteed to be unique.\n",
    "\n",
    " \n",
    "\n",
    "Example 1:\n",
    "\n",
    "Input: gas = [1,2,3,4,5], cost = [3,4,5,1,2]\n",
    "Output: 3\n",
    "Explanation:\n",
    "Start at station 3 (index 3) and fill up with 4 unit of gas. Your tank = 0 + 4 = 4\n",
    "Travel to station 4. Your tank = 4 - 1 + 5 = 8\n",
    "Travel to station 0. Your tank = 8 - 2 + 1 = 7\n",
    "Travel to station 1. Your tank = 7 - 3 + 2 = 6\n",
    "Travel to station 2. Your tank = 6 - 4 + 3 = 5\n",
    "Travel to station 3. The cost is 5. Your gas is just enough to travel back to station 3.\n",
    "Therefore, return 3 as the starting index."
   ]
  },
  {
   "cell_type": "code",
   "execution_count": 2,
   "metadata": {},
   "outputs": [],
   "source": [
    "class Solution:\n",
    "    def canCompleteCircuit(self, gas, cost):\n",
    "        #starting points have to be positive\n",
    "\n",
    "        if sum(gas) < sum(cost):\n",
    "            return -1\n",
    "        \n",
    "        total = 0\n",
    "        res = 0\n",
    "\n",
    "        for i in range(len(gas)):\n",
    "            total += gas[i] - cost[i]\n",
    "            if total < 0:\n",
    "                total = 0\n",
    "                res = i + 1\n",
    "\n",
    "\n",
    "        return res\n",
    "            \n",
    "\n",
    "\n",
    "\n",
    "\n",
    "        "
   ]
  },
  {
   "cell_type": "code",
   "execution_count": 3,
   "metadata": {},
   "outputs": [
    {
     "data": {
      "text/plain": [
       "3"
      ]
     },
     "execution_count": 3,
     "metadata": {},
     "output_type": "execute_result"
    }
   ],
   "source": [
    "gas = [1,2,3,4,5]\n",
    "cost = [3,4,5,1,2]\n",
    "s = Solution()\n",
    "s.canCompleteCircuit(gas,cost)\n"
   ]
  }
 ],
 "metadata": {
  "kernelspec": {
   "display_name": "Python 3",
   "language": "python",
   "name": "python3"
  },
  "language_info": {
   "codemirror_mode": {
    "name": "ipython",
    "version": 3
   },
   "file_extension": ".py",
   "mimetype": "text/x-python",
   "name": "python",
   "nbconvert_exporter": "python",
   "pygments_lexer": "ipython3",
   "version": "3.11.9"
  }
 },
 "nbformat": 4,
 "nbformat_minor": 2
}
