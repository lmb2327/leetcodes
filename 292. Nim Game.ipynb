{
 "cells": [
  {
   "cell_type": "markdown",
   "metadata": {},
   "source": [
    "easy"
   ]
  },
  {
   "cell_type": "markdown",
   "metadata": {},
   "source": [
    "You are playing the following Nim Game with your friend:\n",
    "\n",
    "Initially, there is a heap of stones on the table.\n",
    "You and your friend will alternate taking turns, and you go first.\n",
    "On each turn, the person whose turn it is will remove 1 to 3 stones from the heap.\n",
    "The one who removes the last stone is the winner.\n",
    "Given n, the number of stones in the heap, return true if you can win the game assuming both you and your friend play optimally, otherwise return false.\n",
    "\n",
    " \n",
    "\n",
    "Example 1:\n",
    "\n",
    "Input: n = 4\n",
    "Output: false\n",
    "Explanation: These are the possible outcomes:\n",
    "1. You remove 1 stone. Your friend removes 3 stones, including the last stone. Your friend wins.\n",
    "2. You remove 2 stones. Your friend removes 2 stones, including the last stone. Your friend wins.\n",
    "3. You remove 3 stones. Your friend removes the last stone. Your friend wins.\n",
    "In all outcomes, your friend wins."
   ]
  },
  {
   "cell_type": "code",
   "execution_count": 5,
   "metadata": {},
   "outputs": [],
   "source": [
    "class Solution(object):\n",
    "    def canWinNim(n):\n",
    "        \"\"\"\n",
    "        :type n: int\n",
    "        :rtype: bool\n",
    "        \"\"\"\n",
    "        #if n <= 3, you automatically win\n",
    "        #after that, if n = 4, you can only give the opponennt, the n <= 3 situation, so you loose for sure\n",
    "        #if n = 5,6 or 7, then you can always give the n = 4 situation to the oponent where he automatically looses\n",
    "        #if n = 8, then you can only give 5,6,7 to oponenent, where he wins by definition\n",
    "        #if n = 9, 10, 11, you can always give n = 8 to oponent where he looses, etc etc\n",
    "        #hence, we want n%4 != 0\n",
    "        return n%4 != 0    "
   ]
  },
  {
   "cell_type": "code",
   "execution_count": 6,
   "metadata": {},
   "outputs": [
    {
     "data": {
      "text/plain": [
       "False"
      ]
     },
     "execution_count": 6,
     "metadata": {},
     "output_type": "execute_result"
    }
   ],
   "source": [
    "n = 4\n",
    "Solution.canWinNim(n)"
   ]
  }
 ],
 "metadata": {
  "kernelspec": {
   "display_name": "Python 3",
   "language": "python",
   "name": "python3"
  },
  "language_info": {
   "codemirror_mode": {
    "name": "ipython",
    "version": 3
   },
   "file_extension": ".py",
   "mimetype": "text/x-python",
   "name": "python",
   "nbconvert_exporter": "python",
   "pygments_lexer": "ipython3",
   "version": "3.11.9"
  }
 },
 "nbformat": 4,
 "nbformat_minor": 2
}
