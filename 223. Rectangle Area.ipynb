{
 "cells": [
  {
   "cell_type": "markdown",
   "metadata": {},
   "source": [
    "Medium"
   ]
  },
  {
   "cell_type": "markdown",
   "metadata": {},
   "source": [
    "Given the coordinates of two rectilinear rectangles in a 2D plane, return the total area covered by the two rectangles.\n",
    "\n",
    "The first rectangle is defined by its bottom-left corner (ax1, ay1) and its top-right corner (ax2, ay2).\n",
    "\n",
    "The second rectangle is defined by its bottom-left corner (bx1, by1) and its top-right corner (bx2, by2)."
   ]
  },
  {
   "cell_type": "code",
   "execution_count": 8,
   "metadata": {},
   "outputs": [],
   "source": [
    "def computeArea(ax1, ay1, ax2, ay2, bx1, by1, bx2, by2):\n",
    "        \"\"\"\n",
    "        :type ax1: int\n",
    "        :type ay1: int\n",
    "        :type ax2: int\n",
    "        :type ay2: int\n",
    "        :type bx1: int\n",
    "        :type by1: int\n",
    "        :type bx2: int\n",
    "        :type by2: int\n",
    "        :rtype: int\n",
    "        \"\"\"\n",
    "        totarea = 0\n",
    "        area_a = (ax2-ax1) * (ay2 - ay1)\n",
    "        area_b = (bx2 - bx1) * (by2 - by1)\n",
    "        totarea = area_a + area_b\n",
    "\n",
    "        #find ranges\n",
    "        ax_range = range(ax1,ax2+1)\n",
    "        ay_range = range(ay1,ay2+1)\n",
    "\n",
    "        bx_range = range(bx1,bx2+1)\n",
    "        by_range = range(by1,by2+1)\n",
    "\n",
    "        #find intersection\n",
    "        x_intersect = list(set(ax_range).intersection(set(bx_range)))\n",
    "        y_intersect = list(set(ay_range).intersection(set(by_range)))\n",
    "        \n",
    "        #use sets to split\n",
    "        x_intersect.sort()\n",
    "        y_intersect.sort()\n",
    "\n",
    "        #find area\n",
    "        if len(x_intersect) > 1 and len(y_intersect) > 1:\n",
    "            l = x_intersect[-1] - x_intersect[0]\n",
    "            h = y_intersect[-1] - y_intersect[0]\n",
    "            totarea = totarea - (l*h)\n",
    "        \n",
    "        #if the rectangles overlap perfectly\n",
    "        if ax_range == bx_range and ay_range == by_range:\n",
    "            totarea = area_a\n",
    "        \n",
    "        return totarea\n",
    "\n",
    "\n",
    "        "
   ]
  },
  {
   "cell_type": "code",
   "execution_count": 9,
   "metadata": {},
   "outputs": [
    {
     "data": {
      "text/plain": [
       "45"
      ]
     },
     "execution_count": 9,
     "metadata": {},
     "output_type": "execute_result"
    }
   ],
   "source": [
    "ax1 = -3\n",
    "ay1 = 0\n",
    "ax2 = 3\n",
    "ay2 = 4\n",
    "bx1 = 0\n",
    "by1 = -1\n",
    "bx2 = 9\n",
    "by2 = 2\n",
    "computeArea(ax1,ay1,ax2,ay2,bx1,by1,bx2,by2)"
   ]
  },
  {
   "cell_type": "markdown",
   "metadata": {},
   "source": [
    "Other solution"
   ]
  },
  {
   "cell_type": "code",
   "execution_count": 10,
   "metadata": {},
   "outputs": [],
   "source": [
    "def computeArea(ax1: int, ay1: int, ax2: int, ay2: int, bx1: int, by1: int, bx2: int, by2: int) -> int:\n",
    "        coxl=max(ax1,bx1)\n",
    "        coxr=min(ax2,bx2)\n",
    "        coyl=max(ay1,by1)\n",
    "        coyr=min(ay2,by2)\n",
    "        dx=coxr-coxl\n",
    "        dy=coyr-coyl\n",
    "        comm=0\n",
    "        if dx>0 and dy>0:\n",
    "            comm=dx*dy\n",
    "        a=abs(ax2-ax1)*abs(ay2-ay1)\n",
    "        b=abs(bx2-bx1)*abs(by2-by1)\n",
    "        area=a+b-comm\n",
    "        return area"
   ]
  },
  {
   "cell_type": "code",
   "execution_count": 11,
   "metadata": {},
   "outputs": [
    {
     "data": {
      "text/plain": [
       "45"
      ]
     },
     "execution_count": 11,
     "metadata": {},
     "output_type": "execute_result"
    }
   ],
   "source": [
    "ax1 = -3\n",
    "ay1 = 0\n",
    "ax2 = 3\n",
    "ay2 = 4\n",
    "bx1 = 0\n",
    "by1 = -1\n",
    "bx2 = 9\n",
    "by2 = 2\n",
    "computeArea(ax1,ay1,ax2,ay2,bx1,by1,bx2,by2)"
   ]
  }
 ],
 "metadata": {
  "kernelspec": {
   "display_name": "Python 3",
   "language": "python",
   "name": "python3"
  },
  "language_info": {
   "codemirror_mode": {
    "name": "ipython",
    "version": 3
   },
   "file_extension": ".py",
   "mimetype": "text/x-python",
   "name": "python",
   "nbconvert_exporter": "python",
   "pygments_lexer": "ipython3",
   "version": "3.11.9"
  }
 },
 "nbformat": 4,
 "nbformat_minor": 2
}
