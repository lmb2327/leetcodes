{
 "cells": [
  {
   "cell_type": "markdown",
   "metadata": {},
   "source": [
    "medium"
   ]
  },
  {
   "cell_type": "markdown",
   "metadata": {},
   "source": [
    "Given an m x n integer matrix matrix, if an element is 0, set its entire row and column to 0's.\n",
    "\n",
    "You must do it in place.\n",
    "\n",
    " \n",
    "\n",
    "Example 1:\n",
    "\n",
    "\n",
    "Input: matrix = [[1,1,1],[1,0,1],[1,1,1]]\n",
    "Output: [[1,0,1],[0,0,0],[1,0,1]]"
   ]
  },
  {
   "cell_type": "code",
   "execution_count": 3,
   "metadata": {},
   "outputs": [],
   "source": [
    "class Solution:\n",
    "    def setZeroes(self, matrix):\n",
    "        rows = len(matrix)\n",
    "        cols = len(matrix[0])\n",
    "        row_set = set()\n",
    "        col_set = set()\n",
    "        for i in range(rows):\n",
    "            for j in range(cols):\n",
    "                if matrix[i][j] == 0:\n",
    "                    row_set.add(i)\n",
    "                    col_set.add(j)\n",
    "        for i in range(rows):\n",
    "            for j in range(cols):\n",
    "                if i in row_set or j in col_set:\n",
    "                    matrix[i][j] = 0"
   ]
  },
  {
   "cell_type": "code",
   "execution_count": 4,
   "metadata": {},
   "outputs": [
    {
     "name": "stdout",
     "output_type": "stream",
     "text": [
      "[[1, 0, 1], [0, 0, 0], [1, 0, 1]]\n"
     ]
    }
   ],
   "source": [
    "matrix = [[1,1,1],[1,0,1],[1,1,1]]\n",
    "s=Solution()\n",
    "s.setZeroes(matrix)\n",
    "print(matrix)"
   ]
  }
 ],
 "metadata": {
  "kernelspec": {
   "display_name": "Python 3",
   "language": "python",
   "name": "python3"
  },
  "language_info": {
   "codemirror_mode": {
    "name": "ipython",
    "version": 3
   },
   "file_extension": ".py",
   "mimetype": "text/x-python",
   "name": "python",
   "nbconvert_exporter": "python",
   "pygments_lexer": "ipython3",
   "version": "3.11.9"
  }
 },
 "nbformat": 4,
 "nbformat_minor": 2
}
