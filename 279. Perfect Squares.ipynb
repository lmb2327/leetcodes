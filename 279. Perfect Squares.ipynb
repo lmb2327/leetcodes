{
 "cells": [
  {
   "cell_type": "markdown",
   "metadata": {},
   "source": [
    "medium"
   ]
  },
  {
   "cell_type": "markdown",
   "metadata": {},
   "source": [
    "Given an integer n, return the least number of perfect square numbers that sum to n.\n",
    "\n",
    "A perfect square is an integer that is the square of an integer; in other words, it is the product of some integer with itself. For example, 1, 4, 9, and 16 are perfect squares while 3 and 11 are not.\n",
    "\n",
    " \n",
    "\n",
    "Example 1:\n",
    "\n",
    "Input: n = 12\n",
    "Output: 3\n",
    "Explanation: 12 = 4 + 4 + 4.\n",
    "Example 2:\n",
    "\n",
    "Input: n = 13\n",
    "Output: 2\n",
    "Explanation: 13 = 4 + 9."
   ]
  },
  {
   "cell_type": "code",
   "execution_count": 5,
   "metadata": {},
   "outputs": [],
   "source": [
    "def numSquares(n):\n",
    "    \n",
    "    dp = [n] * (n + 1)\n",
    "    dp[0] = 0\n",
    "    \n",
    "    #The biggest x we can use is floor(n**0.5)\n",
    "    squares = [x**2 for x in range(1, n) if x**2<=n]\n",
    "\n",
    "    for target in range(1, n + 1):\n",
    "        dp[target] = target\n",
    "        for square in squares: \n",
    "            if target - square < 0: \n",
    "                break\n",
    "            dp[target] = min(dp[target], 1+dp[target-square])\n",
    "    return dp[n]"
   ]
  },
  {
   "cell_type": "code",
   "execution_count": 6,
   "metadata": {},
   "outputs": [
    {
     "data": {
      "text/plain": [
       "3"
      ]
     },
     "execution_count": 6,
     "metadata": {},
     "output_type": "execute_result"
    }
   ],
   "source": [
    "n = 12\n",
    "\n",
    "numSquares(n)"
   ]
  },
  {
   "cell_type": "markdown",
   "metadata": {},
   "source": [
    "Say we have n =4, the squares we have are [1,4]  \n",
    "So when we hit target = 4, dp[target] = 4  \n",
    "In the second for loop, we start with one, which gives us min (4,4), so it stays 4  \n",
    "Then, when saure == 4, we get min(4,1) = 1, so dp[4] = 1  \n",
    "Then square runs out, but if we hade more, target - square would be < 0 so it it would break  \n",
    "therefore dp[4] = 1,  \n",
    "etc"
   ]
  }
 ],
 "metadata": {
  "kernelspec": {
   "display_name": "Python 3",
   "language": "python",
   "name": "python3"
  },
  "language_info": {
   "codemirror_mode": {
    "name": "ipython",
    "version": 3
   },
   "file_extension": ".py",
   "mimetype": "text/x-python",
   "name": "python",
   "nbconvert_exporter": "python",
   "pygments_lexer": "ipython3",
   "version": "3.11.9"
  }
 },
 "nbformat": 4,
 "nbformat_minor": 2
}
