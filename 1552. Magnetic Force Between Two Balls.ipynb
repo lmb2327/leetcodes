{
 "cells": [
  {
   "cell_type": "markdown",
   "metadata": {},
   "source": [
    "Medium"
   ]
  },
  {
   "cell_type": "markdown",
   "metadata": {},
   "source": [
    "In the universe Earth C-137, Rick discovered a special form of magnetic force between two balls if they are put in his new invented basket. Rick has n empty baskets, the ith basket is at position[i], Morty has m balls and needs to distribute the balls into the baskets such that the minimum magnetic force between any two balls is maximum.\n",
    "\n",
    "Rick stated that magnetic force between two different balls at positions x and y is |x - y|.\n",
    "\n",
    "Given the integer array position and the integer m. Return the required force."
   ]
  },
  {
   "cell_type": "code",
   "execution_count": 1,
   "metadata": {},
   "outputs": [],
   "source": [
    "def maxDistance(position, m):\n",
    "    position.sort()\n",
    "    n = len(position)\n",
    "\n",
    "    def countballs(d):\n",
    "        n_balls=1\n",
    "        cur = 1\n",
    "        position[0]\n",
    "        for i in range(1,n):\n",
    "            if position[i] - cur >= d:\n",
    "                n_balls = n_balls + 1\n",
    "                cur = position[i]\n",
    "        return n_balls\n",
    "    \n",
    "    left, right = 1, position[-1] - position[0]\n",
    "\n",
    "    while left <= right:\n",
    "        mid = (left + right) //2\n",
    "        if countballs(mid) >= m:\n",
    "            left = mid +1\n",
    "        else:\n",
    "            right = mid -1\n",
    "    return right\n",
    "\n",
    "\n",
    "\n",
    "#Solution\n",
    "# This is an example of binary search\n",
    "# We start by guessing that the maximum min distance is (left + right) // 2\n",
    "#We test it out using the function. We go through each position and when we have a distance that is equal to mid, we place a ball and reset\n",
    "#If this allows us to place more balls than we wanted, we might be able to get a larger min distance, so we put left at mid + 1 and repeat\n",
    "#If this does not allow us to place enough balls, this means that the mid guess was too large, we must use the lower half the distances\n",
    "#So we do mid - 1\n",
    "#We repeat\n",
    "#We take the right hand side, since it is the maximum valid distance\n",
    "\n",
    "        "
   ]
  },
  {
   "cell_type": "code",
   "execution_count": 2,
   "metadata": {},
   "outputs": [
    {
     "data": {
      "text/plain": [
       "4"
      ]
     },
     "execution_count": 2,
     "metadata": {},
     "output_type": "execute_result"
    }
   ],
   "source": [
    "position = [1,2,3,4,5,6,7,8,9,10]\n",
    "m = 3\n",
    "\n",
    "maxDistance(position,m)"
   ]
  }
 ],
 "metadata": {
  "kernelspec": {
   "display_name": "Python 3",
   "language": "python",
   "name": "python3"
  },
  "language_info": {
   "codemirror_mode": {
    "name": "ipython",
    "version": 3
   },
   "file_extension": ".py",
   "mimetype": "text/x-python",
   "name": "python",
   "nbconvert_exporter": "python",
   "pygments_lexer": "ipython3",
   "version": "3.11.9"
  }
 },
 "nbformat": 4,
 "nbformat_minor": 2
}
