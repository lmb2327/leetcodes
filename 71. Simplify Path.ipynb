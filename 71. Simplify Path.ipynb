{
 "cells": [
  {
   "cell_type": "markdown",
   "metadata": {},
   "source": [
    "medium"
   ]
  },
  {
   "cell_type": "markdown",
   "metadata": {},
   "source": [
    "You are given an absolute path for a Unix-style file system, which always begins with a slash '/'. Your task is to transform this absolute path into its simplified canonical path.\n",
    "\n",
    "The rules of a Unix-style file system are as follows:\n",
    "\n",
    "A single period '.' represents the current directory.\n",
    "A double period '..' represents the previous/parent directory.\n",
    "Multiple consecutive slashes such as '//' and '///' are treated as a single slash '/'.\n",
    "Any sequence of periods that does not match the rules above should be treated as a valid directory or file name. For example, '...' and '....' are valid directory or file names.\n",
    "The simplified canonical path should follow these rules:\n",
    "\n",
    "The path must start with a single slash '/'.\n",
    "Directories within the path must be separated by exactly one slash '/'.\n",
    "The path must not end with a slash '/', unless it is the root directory.\n",
    "The path must not have any single or double periods ('.' and '..') used to denote current or parent directories.\n",
    "Return the simplified canonical path.\n",
    "\n",
    " \n",
    "\n",
    "Example 1:\n",
    "\n",
    "Input: path = \"/home/\"\n",
    "\n",
    "Output: \"/home\"\n",
    "\n",
    "Explanation:\n",
    "\n",
    "The trailing slash should be removed.\n",
    "\n",
    "Example 2:\n",
    "\n",
    "Input: path = \"/home//foo/\"\n",
    "\n",
    "Output: \"/home/foo\"\n",
    "\n",
    "Explanation:\n",
    "\n",
    "Multiple consecutive slashes are replaced by a single one.\n",
    "\n",
    "Example 3:\n",
    "\n",
    "Input: path = \"/home/user/Documents/../Pictures\"\n",
    "\n",
    "Output: \"/home/user/Pictures\"\n",
    "\n",
    "Explanation:\n",
    "\n",
    "A double period \"..\" refers to the directory up a level (the parent directory).\n",
    "\n",
    "Example 4:\n",
    "\n",
    "Input: path = \"/../\"\n",
    "\n",
    "Output: \"/\"\n",
    "\n",
    "Explanation:\n",
    "\n",
    "Going one level up from the root directory is not possible.\n",
    "\n",
    "Example 5:\n",
    "\n",
    "Input: path = \"/.../a/../b/c/../d/./\"\n",
    "\n",
    "Output: \"/.../b/d\"\n",
    "\n",
    "Explanation:\n",
    "\n",
    "\"...\" is a valid name for a directory in this problem."
   ]
  },
  {
   "cell_type": "code",
   "execution_count": 1,
   "metadata": {},
   "outputs": [],
   "source": [
    "class Solution(object):\n",
    "    def simplifyPath(self, path):\n",
    "        stack = []\n",
    "        directories = path.split(\"/\")\n",
    "        print(directories)\n",
    "        for dir in directories:\n",
    "            if dir == \".\" or not dir:\n",
    "                continue\n",
    "            elif dir == \"..\":\n",
    "                if stack:\n",
    "                    stack.pop()\n",
    "            else:\n",
    "                stack.append(dir)\n",
    "        return \"/\" + \"/\".join(stack)"
   ]
  },
  {
   "cell_type": "code",
   "execution_count": 2,
   "metadata": {},
   "outputs": [
    {
     "name": "stdout",
     "output_type": "stream",
     "text": [
      "['', 'home', 'user', 'Documents', '..', 'Pictures']\n"
     ]
    },
    {
     "data": {
      "text/plain": [
       "'/home/user/Pictures'"
      ]
     },
     "execution_count": 2,
     "metadata": {},
     "output_type": "execute_result"
    }
   ],
   "source": [
    "path = \"/home/user/Documents/../Pictures\"\n",
    "s = Solution()\n",
    "s.simplifyPath(path)"
   ]
  }
 ],
 "metadata": {
  "kernelspec": {
   "display_name": "Python 3",
   "language": "python",
   "name": "python3"
  },
  "language_info": {
   "codemirror_mode": {
    "name": "ipython",
    "version": 3
   },
   "file_extension": ".py",
   "mimetype": "text/x-python",
   "name": "python",
   "nbconvert_exporter": "python",
   "pygments_lexer": "ipython3",
   "version": "3.11.9"
  }
 },
 "nbformat": 4,
 "nbformat_minor": 2
}
