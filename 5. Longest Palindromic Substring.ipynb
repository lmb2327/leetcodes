{
 "cells": [
  {
   "cell_type": "markdown",
   "metadata": {},
   "source": [
    "Given a string s, return the longest \n",
    "palindromic\n",
    " \n",
    "substring\n",
    " in s.\n",
    "Input: s = \"babad\"\n",
    "Output: \"bab\"\n",
    "Explanation: \"aba\" is also a valid answer."
   ]
  },
  {
   "cell_type": "code",
   "execution_count": 1,
   "metadata": {},
   "outputs": [],
   "source": [
    "class Solution:\n",
    "    def longestPalindrome(self, s: str) -> str:\n",
    "        res = \"\"\n",
    "        resLen = 0\n",
    "\n",
    "        for i in range(len(s)):\n",
    "            #odd length:\n",
    "            l,r = i,i\n",
    "            while l >= 0 and r < len(s) and s[l] == s[r]:\n",
    "                if r - l + 1 > resLen:\n",
    "                    res = s[l:r+1]\n",
    "                    resLen = r - l + 1\n",
    "                l -= 1\n",
    "                r += 1\n",
    "\n",
    "            #even length:\n",
    "            l, r = i, i + 1\n",
    "            while l >= 0 and r < len(s) and s[l] == s[r]:\n",
    "                if r - l + 1 > resLen:\n",
    "                    res = s[l:r+1]\n",
    "                    resLen = r- l + 1\n",
    "                l-=1\n",
    "                r+=1\n",
    "        \n",
    "        return res"
   ]
  },
  {
   "cell_type": "code",
   "execution_count": 2,
   "metadata": {},
   "outputs": [
    {
     "data": {
      "text/plain": [
       "'bab'"
      ]
     },
     "execution_count": 2,
     "metadata": {},
     "output_type": "execute_result"
    }
   ],
   "source": [
    "s = \"babad\"\n",
    "o = Solution()\n",
    "o.longestPalindrome(s)"
   ]
  }
 ],
 "metadata": {
  "kernelspec": {
   "display_name": "Python 3",
   "language": "python",
   "name": "python3"
  },
  "language_info": {
   "codemirror_mode": {
    "name": "ipython",
    "version": 3
   },
   "file_extension": ".py",
   "mimetype": "text/x-python",
   "name": "python",
   "nbconvert_exporter": "python",
   "pygments_lexer": "ipython3",
   "version": "3.11.9"
  }
 },
 "nbformat": 4,
 "nbformat_minor": 2
}
