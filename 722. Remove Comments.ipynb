{
 "cells": [
  {
   "cell_type": "markdown",
   "metadata": {},
   "source": [
    "Given a C++ program, remove comments from it. The program source is an array of strings source where source[i] is the ith line of the source code. This represents the result of splitting the original source code string by the newline character '\\n'.\n",
    "\n",
    "In C++, there are two types of comments, line comments, and block comments.\n",
    "\n",
    "The string \"//\" denotes a line comment, which represents that it and the rest of the characters to the right of it in the same line should be ignored.\n",
    "The string \"/*\" denotes a block comment, which represents that all characters until the next (non-overlapping) occurrence of \"*/\" should be ignored. (Here, occurrences happen in reading order: line by line from left to right.) To be clear, the string \"/*/\" does not yet end the block comment, as the ending would be overlapping the beginning.\n",
    "The first effective comment takes precedence over others.\n",
    "\n",
    "For example, if the string \"//\" occurs in a block comment, it is ignored.\n",
    "Similarly, if the string \"/*\" occurs in a line or block comment, it is also ignored.\n",
    "If a certain line of code is empty after removing comments, you must not output that line: each string in the answer list will be non-empty.\n",
    "\n",
    "There will be no control characters, single quote, or double quote characters.\n",
    "\n",
    "For example, source = \"string s = \"/* Not a comment. */\";\" will not be a test case.\n",
    "Also, nothing else such as defines or macros will interfere with the comments.\n",
    "\n",
    "It is guaranteed that every open block comment will eventually be closed, so \"/*\" outside of a line or block comment always starts a new comment.\n",
    "\n",
    "Finally, implicit newline characters can be deleted by block comments. Please see the examples below for details.\n",
    "\n",
    "After removing the comments from the source code, return the source code in the same format.\n",
    "\n",
    " \n",
    "\n",
    "Example 1:\n",
    "\n",
    "Input: source = [\"/*Test program */\", \"int main()\", \"{ \", \"  // variable declaration \", \"int a, b, c;\", \"/* This is a test\", \"   multiline  \", \"   comment for \", \"   testing */\", \"a = b + c;\", \"}\"]\n",
    "Output: [\"int main()\",\"{ \",\"  \",\"int a, b, c;\",\"a = b + c;\",\"}\"]\n",
    "Explanation: The line by line code is visualized as below:\n",
    "/*Test program */\n",
    "int main()\n",
    "{ \n",
    "  // variable declaration \n",
    "int a, b, c;\n",
    "/* This is a test\n",
    "   multiline  \n",
    "   comment for \n",
    "   testing */\n",
    "a = b + c;\n",
    "}\n",
    "The string /* denotes a block comment, including line 1 and lines 6-9. The string // denotes line 4 as comments.\n",
    "The line by line output code is visualized as below:\n",
    "int main()\n",
    "{ \n",
    "  \n",
    "int a, b, c;\n",
    "a = b + c;\n",
    "}"
   ]
  },
  {
   "cell_type": "code",
   "execution_count": 2,
   "metadata": {},
   "outputs": [],
   "source": [
    "class Solution:\n",
    "    def removeComments(self, source):\n",
    "        \n",
    "      \n",
    "        new_s = []\n",
    "        for i in source:\n",
    "            new_s += i\n",
    "            new_s += \"'\"\n",
    "        \n",
    "        for i in range(len(new_s)):\n",
    "            j = i + 2\n",
    "            while j < len(new_s):\n",
    "\n",
    "                if new_s[i] == \"/\" and new_s[i+1] == \"*\" and new_s[j] ==\"*\" and new_s[j+1]==\"/\":\n",
    "                    new_s = new_s[:i] + new_s[j+2:]\n",
    "                    j = i + 2\n",
    "                    \n",
    "\n",
    "                elif new_s[i] == \"/\" and new_s[i+1] == \"/\" and new_s[j] == \"'\":\n",
    "                    new_s = new_s[:i] + new_s[j:]\n",
    "                    j = i + 2\n",
    "                else:\n",
    "                    j += 1\n",
    "                    \n",
    "        \n",
    "        new_s = \"\".join(new_s)\n",
    "        new_s  = new_s.split(\"'\")\n",
    "        while new_s.count(\"\"):\n",
    "            new_s.remove(\"\")\n",
    "        \n",
    "        return new_s"
   ]
  },
  {
   "cell_type": "code",
   "execution_count": 3,
   "metadata": {},
   "outputs": [
    {
     "data": {
      "text/plain": [
       "['int main()', '{ ', '  ', 'int a, b, c;', 'a = b + c;', '}']"
      ]
     },
     "execution_count": 3,
     "metadata": {},
     "output_type": "execute_result"
    }
   ],
   "source": [
    "source = [\"/*Test program */\", \"int main()\", \"{ \", \"  // variable declaration \", \"int a, b, c;\", \"/* This is a test\", \"   multiline  \", \"   comment for \", \"   testing */\", \"a = b + c;\", \"}\"]\n",
    "s = Solution()\n",
    "s.removeComments(source)"
   ]
  }
 ],
 "metadata": {
  "kernelspec": {
   "display_name": "Python 3",
   "language": "python",
   "name": "python3"
  },
  "language_info": {
   "codemirror_mode": {
    "name": "ipython",
    "version": 3
   },
   "file_extension": ".py",
   "mimetype": "text/x-python",
   "name": "python",
   "nbconvert_exporter": "python",
   "pygments_lexer": "ipython3",
   "version": "3.11.9"
  }
 },
 "nbformat": 4,
 "nbformat_minor": 2
}
