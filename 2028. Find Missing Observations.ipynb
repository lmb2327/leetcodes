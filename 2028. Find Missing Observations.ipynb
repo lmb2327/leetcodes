{
 "cells": [
  {
   "cell_type": "markdown",
   "metadata": {},
   "source": [
    "medium"
   ]
  },
  {
   "cell_type": "markdown",
   "metadata": {},
   "source": [
    "You have observations of n + m 6-sided dice rolls with each face numbered from 1 to 6. n of the observations went missing, and you only have the observations of m rolls. Fortunately, you have also calculated the average value of the n + m rolls.\n",
    "\n",
    "You are given an integer array rolls of length m where rolls[i] is the value of the ith observation. You are also given the two integers mean and n.\n",
    "\n",
    "Return an array of length n containing the missing observations such that the average value of the n + m rolls is exactly mean. If there are multiple valid answers, return any of them. If no such array exists, return an empty array.\n",
    "\n",
    "The average value of a set of k numbers is the sum of the numbers divided by k.\n",
    "\n",
    "Note that mean is an integer, so the sum of the n + m rolls should be divisible by n + m.\n",
    "\n",
    " \n",
    "\n",
    "Example 1:\n",
    "\n",
    "Input: rolls = [3,2,4,3], mean = 4, n = 2\n",
    "Output: [6,6]\n",
    "Explanation: The mean of all n + m rolls is (3 + 2 + 4 + 3 + 6 + 6) / 6 = 4.\n",
    "Example 2:\n",
    "\n",
    "Input: rolls = [1,5,6], mean = 3, n = 4\n",
    "Output: [2,3,2,2]\n",
    "Explanation: The mean of all n + m rolls is (1 + 5 + 6 + 2 + 3 + 2 + 2) / 7 = 3."
   ]
  },
  {
   "cell_type": "code",
   "execution_count": 1,
   "metadata": {},
   "outputs": [],
   "source": [
    "class Solution(object):\n",
    "    def missingRolls(self, rolls, mean, n):\n",
    "        \"\"\"\n",
    "        :type rolls: List[int]\n",
    "        :type mean: int\n",
    "        :type n: int\n",
    "        :rtype: List[int]\n",
    "        \"\"\"\n",
    "\n",
    "        sumroll = sum(rolls)\n",
    "        totlen = len(rolls) + n\n",
    "        missing = totlen*mean-sumroll\n",
    "\n",
    "        if missing > n*6 or missing < n:\n",
    "            return []\n",
    "\n",
    "        base = missing // n\n",
    "        remainder = missing % n\n",
    "\n",
    "        result = [base]*n\n",
    "        for i in range(remainder):\n",
    "            result[i] += 1\n",
    "        \n",
    "        return result"
   ]
  },
  {
   "cell_type": "code",
   "execution_count": 2,
   "metadata": {},
   "outputs": [
    {
     "data": {
      "text/plain": [
       "[6, 6]"
      ]
     },
     "execution_count": 2,
     "metadata": {},
     "output_type": "execute_result"
    }
   ],
   "source": [
    "rolls = [3,2,4,3]\n",
    "mean = 4\n",
    "n = 2\n",
    "s = Solution()\n",
    "s.missingRolls(rolls,mean,n)"
   ]
  }
 ],
 "metadata": {
  "kernelspec": {
   "display_name": "Python 3",
   "language": "python",
   "name": "python3"
  },
  "language_info": {
   "codemirror_mode": {
    "name": "ipython",
    "version": 3
   },
   "file_extension": ".py",
   "mimetype": "text/x-python",
   "name": "python",
   "nbconvert_exporter": "python",
   "pygments_lexer": "ipython3",
   "version": "3.11.9"
  }
 },
 "nbformat": 4,
 "nbformat_minor": 2
}
