{
 "cells": [
  {
   "cell_type": "markdown",
   "metadata": {},
   "source": [
    "medium"
   ]
  },
  {
   "cell_type": "markdown",
   "metadata": {},
   "source": [
    "ou have intercepted a secret message encoded as a string of numbers. The message is decoded via the following mapping:\n",
    "\n",
    "\"1\" -> 'A'\n",
    "\n",
    "\"2\" -> 'B'\n",
    "\n",
    "...\n",
    "\n",
    "\"25\" -> 'Y'\n",
    "\n",
    "\"26\" -> 'Z'\n",
    "\n",
    "However, while decoding the message, you realize that there are many different ways you can decode the message because some codes are contained in other codes (\"2\" and \"5\" vs \"25\").\n",
    "\n",
    "For example, \"11106\" can be decoded into:\n",
    "\n",
    "\"AAJF\" with the grouping (1, 1, 10, 6)\n",
    "\"KJF\" with the grouping (11, 10, 6)\n",
    "The grouping (1, 11, 06) is invalid because \"06\" is not a valid code (only \"6\" is valid).\n",
    "Note: there may be strings that are impossible to decode.\n",
    "\n",
    "Given a string s containing only digits, return the number of ways to decode it. If the entire string cannot be decoded in any valid way, return 0.\n",
    "\n",
    "The test cases are generated so that the answer fits in a 32-bit integer."
   ]
  },
  {
   "cell_type": "code",
   "execution_count": 18,
   "metadata": {},
   "outputs": [],
   "source": [
    "class Solution(object):\n",
    "    def numDecodings(self, s):\n",
    "        \"\"\"\n",
    "        :type s: str\n",
    "        :rtype: int\n",
    "        \"\"\"\n",
    "        dp = {len(s):1}\n",
    " \n",
    "        for i in range(len(s)-1,-1,-1):\n",
    "            if s[i] == \"0\":\n",
    "                dp[i] = 0\n",
    "            else:\n",
    "                dp[i] = dp[i+1]\n",
    "                print(f\"i is {i}\")\n",
    "                print(dp[i])\n",
    "            if (i+1 < len(s) and (s[i] == \"1\" or s[i] == \"2\" and s[i+1] in \"0123456\")):\n",
    "                dp[i] += dp[i+2]\n",
    "                print(dp[i])\n",
    "        print(dp)\n",
    "        return dp[0]\n"
   ]
  },
  {
   "cell_type": "code",
   "execution_count": 19,
   "metadata": {},
   "outputs": [
    {
     "name": "stdout",
     "output_type": "stream",
     "text": [
      "i is 4\n",
      "1\n",
      "i is 2\n",
      "0\n",
      "1\n",
      "i is 1\n",
      "1\n",
      "1\n",
      "i is 0\n",
      "1\n",
      "2\n",
      "{5: 1, 4: 1, 3: 0, 2: 1, 1: 1, 0: 2}\n"
     ]
    },
    {
     "data": {
      "text/plain": [
       "2"
      ]
     },
     "execution_count": 19,
     "metadata": {},
     "output_type": "execute_result"
    }
   ],
   "source": [
    "s = \"11106\"\n",
    "o = Solution()\n",
    "o.numDecodings(s)"
   ]
  }
 ],
 "metadata": {
  "kernelspec": {
   "display_name": "Python 3",
   "language": "python",
   "name": "python3"
  },
  "language_info": {
   "codemirror_mode": {
    "name": "ipython",
    "version": 3
   },
   "file_extension": ".py",
   "mimetype": "text/x-python",
   "name": "python",
   "nbconvert_exporter": "python",
   "pygments_lexer": "ipython3",
   "version": "3.11.9"
  }
 },
 "nbformat": 4,
 "nbformat_minor": 2
}
