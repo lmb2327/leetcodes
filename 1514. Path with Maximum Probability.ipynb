{
 "cells": [
  {
   "cell_type": "markdown",
   "metadata": {},
   "source": [
    "medium"
   ]
  },
  {
   "cell_type": "markdown",
   "metadata": {},
   "source": [
    "You are given an undirected weighted graph of n nodes (0-indexed), represented by an edge list where edges[i] = [a, b] is an undirected edge connecting the nodes a and b with a probability of success of traversing that edge succProb[i].\n",
    "\n",
    "Given two nodes start and end, find the path with the maximum probability of success to go from start to end and return its success probability.\n",
    "\n",
    "If there is no path from start to end, return 0. Your answer will be accepted if it differs from the correct answer by at most 1e-5.\n",
    "\n",
    " \n",
    "\n",
    "Example 1:\n",
    "\n",
    "\n",
    "\n",
    "Input: n = 3, edges = [[0,1],[1,2],[0,2]], succProb = [0.5,0.5,0.2], start = 0, end = 2\n",
    "Output: 0.25000\n",
    "Explanation: There are two paths from start to end, one having a probability of success = 0.2 and the other has 0.5 * 0.5 = 0.25."
   ]
  },
  {
   "cell_type": "code",
   "execution_count": 15,
   "metadata": {},
   "outputs": [],
   "source": [
    "import heapq\n",
    "\n",
    "class Solution(object):\n",
    "    def maxProbability(self, n, edges, succProb, start_node, end_node):\n",
    "        \"\"\"\n",
    "        :type n: int\n",
    "        :type edges: List[List[int]]\n",
    "        :type succProb: List[float]\n",
    "        :type start_node: int\n",
    "        :type end_node: int\n",
    "        :rtype: float\n",
    "        \"\"\"\n",
    "\n",
    "        adj = collections.defaultdict(list)\n",
    "        for i in range(len(edges)):\n",
    "            src,dst = edges[i]\n",
    "            adj[src].append([dst,succProb[i]])\n",
    "            adj[dst].append([src,succProb[i]])\n",
    "        \n",
    "        print(adj)\n",
    "        pq = [(-1,start_node)]\n",
    "        visit = set()\n",
    "\n",
    "        while pq:\n",
    "            prob, cur = heapq.heappop(pq)\n",
    "            print(f\"prob is {prob}\")\n",
    "            print(f\"cur is {cur}\")\n",
    "            visit.add(cur)\n",
    "\n",
    "            if cur == end_node:\n",
    "                return prob * -1\n",
    "            for nei, edgeProb in adj[cur]:\n",
    "                if nei not in visit:\n",
    "                    heapq.heappush(pq,(prob*edgeProb,nei))\n",
    "                    print(f\"pq is {pq}\")\n",
    "                \n",
    "        return 0"
   ]
  },
  {
   "cell_type": "code",
   "execution_count": 16,
   "metadata": {},
   "outputs": [
    {
     "name": "stdout",
     "output_type": "stream",
     "text": [
      "defaultdict(<class 'list'>, {0: [[1, 0.5], [2, 0.2]], 1: [[0, 0.5], [2, 0.5]], 2: [[1, 0.5], [0, 0.2]]})\n",
      "prob is -1\n",
      "cur is 0\n",
      "pq is [(-0.5, 1)]\n",
      "pq is [(-0.5, 1), (-0.2, 2)]\n",
      "prob is -0.5\n",
      "cur is 1\n",
      "pq is [(-0.25, 2), (-0.2, 2)]\n",
      "prob is -0.25\n",
      "cur is 2\n",
      "0.25\n"
     ]
    }
   ],
   "source": [
    "n = 3\n",
    "edges = [[0,1],[1,2],[0,2]]\n",
    "succProb = [0.5,0.5,0.2]\n",
    "start = 0\n",
    "end = 2\n",
    "sol = Solution()\n",
    "print(sol.maxProbability(n,edges,succProb,start,end))"
   ]
  }
 ],
 "metadata": {
  "kernelspec": {
   "display_name": "Python 3",
   "language": "python",
   "name": "python3"
  },
  "language_info": {
   "codemirror_mode": {
    "name": "ipython",
    "version": 3
   },
   "file_extension": ".py",
   "mimetype": "text/x-python",
   "name": "python",
   "nbconvert_exporter": "python",
   "pygments_lexer": "ipython3",
   "version": "3.11.9"
  }
 },
 "nbformat": 4,
 "nbformat_minor": 2
}
