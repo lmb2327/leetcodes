{
 "cells": [
  {
   "cell_type": "markdown",
   "metadata": {},
   "source": [
    "You are given an n x n grid where you have placed some 1 x 1 x 1 cubes. Each value v = grid[i][j] represents a tower of v cubes placed on top of cell (i, j).\n",
    "\n",
    "After placing these cubes, you have decided to glue any directly adjacent cubes to each other, forming several irregular 3D shapes.\n",
    "\n",
    "Return the total surface area of the resulting shapes.\n",
    "\n",
    "Note: The bottom face of each shape counts toward its surface area.\n",
    "\n",
    " \n",
    "\n",
    "Example 1:\n",
    "\n",
    "\n",
    "Input: grid = [[1,2],[3,4]]\n",
    "Output: 34\n",
    "Example 2:\n",
    "\n",
    "\n",
    "Input: grid = [[1,1,1],[1,0,1],[1,1,1]]\n",
    "Output: 32\n",
    "Example 3:\n",
    "\n",
    "\n",
    "Input: grid = [[2,2,2],[2,1,2],[2,2,2]]\n",
    "Output: 46"
   ]
  },
  {
   "cell_type": "code",
   "execution_count": 5,
   "metadata": {},
   "outputs": [],
   "source": [
    "def surfaceArea(grid):\n",
    "    \"\"\"\n",
    "    :type grid: List[List[int]]\n",
    "    :rtype: int\n",
    "    \"\"\"\n",
    "\n",
    "    #Create a matrix of 0 with 2 more rows and 2 more columns\n",
    "    total = 0\n",
    "    newrow = [0] * (len(grid[0]) + 2)\n",
    "    numrows = len(grid) + 2\n",
    "    newmat = [[0] * (len(grid[0]) + 2) for _ in range(numrows)]\n",
    "    \n",
    "    #Fill the center of this new matrix with the original grid\n",
    "    for row in range(len(grid)):\n",
    "        for col in range(len(grid[row])):\n",
    "            newmat[row + 1][col + 1] = grid[row][col]\n",
    "\n",
    "    #We can now use the following without getting the out of bounds error\n",
    "    for row in range(len(grid)):\n",
    "        for col in range(len(grid[row])):\n",
    "            \n",
    "            #add top and bottom if there is a block\n",
    "            edges =  2*min(grid[row][col],1)\n",
    "\n",
    "            #find the height of blocs all around the current block\n",
    "            left = newmat[row+1][col]\n",
    "            right = newmat[row+1][col+2]\n",
    "            top = newmat[row][col+1]\n",
    "            down = newmat[row+2][col+1]\n",
    "\n",
    "            #Find teh difference in heights\n",
    "            l = max(0, grid[row][col] - left)\n",
    "            r = max(0, grid[row][col] - right)\n",
    "            t = max(0, grid[row][col] - top)\n",
    "            d = max(0, grid[row][col] - down)\n",
    "\n",
    "            #sum up the area\n",
    "            total += edges + l + r + t + d\n",
    "    return total\n",
    "\n",
    "\n",
    "        "
   ]
  },
  {
   "cell_type": "code",
   "execution_count": 6,
   "metadata": {},
   "outputs": [
    {
     "data": {
      "text/plain": [
       "34"
      ]
     },
     "execution_count": 6,
     "metadata": {},
     "output_type": "execute_result"
    }
   ],
   "source": [
    "grid = [[1,2],[3,4]]\n",
    "surfaceArea(grid)"
   ]
  },
  {
   "cell_type": "markdown",
   "metadata": {},
   "source": [
    "The answer is slow but takes less memory than others"
   ]
  }
 ],
 "metadata": {
  "kernelspec": {
   "display_name": "Python 3",
   "language": "python",
   "name": "python3"
  },
  "language_info": {
   "codemirror_mode": {
    "name": "ipython",
    "version": 3
   },
   "file_extension": ".py",
   "mimetype": "text/x-python",
   "name": "python",
   "nbconvert_exporter": "python",
   "pygments_lexer": "ipython3",
   "version": "3.11.9"
  }
 },
 "nbformat": 4,
 "nbformat_minor": 2
}
