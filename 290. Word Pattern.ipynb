{
 "cells": [
  {
   "cell_type": "markdown",
   "metadata": {},
   "source": [
    "easy"
   ]
  },
  {
   "cell_type": "markdown",
   "metadata": {},
   "source": [
    "Given a pattern and a string s, find if s follows the same pattern.\n",
    "\n",
    "Here follow means a full match, such that there is a bijection between a letter in pattern and a non-empty word in s. Specifically:\n",
    "\n",
    "Each letter in pattern maps to exactly one unique word in s.\n",
    "Each unique word in s maps to exactly one letter in pattern.\n",
    "No two letters map to the same word, and no two words map to the same letter.\n",
    " \n",
    "\n",
    "Example 1:\n",
    "\n",
    "Input: pattern = \"abba\", s = \"dog cat cat dog\"\n",
    "\n",
    "Output: true"
   ]
  },
  {
   "cell_type": "code",
   "execution_count": 1,
   "metadata": {},
   "outputs": [],
   "source": [
    "class Solution:\n",
    "    def wordPattern(self, pattern, s):\n",
    "        mapping = {}\n",
    "        s = s.split()\n",
    "        if len(pattern) != len(s):\n",
    "            return False\n",
    "\n",
    "        for char, word in zip(pattern, s):\n",
    "            if char in mapping:\n",
    "                if mapping[char] != word:\n",
    "                    return False\n",
    "            else:\n",
    "                mapping[char] = word\n",
    "\n",
    "        return len(set(mapping.keys())) == len(set(mapping.values()))"
   ]
  },
  {
   "cell_type": "code",
   "execution_count": 2,
   "metadata": {},
   "outputs": [
    {
     "data": {
      "text/plain": [
       "True"
      ]
     },
     "execution_count": 2,
     "metadata": {},
     "output_type": "execute_result"
    }
   ],
   "source": [
    "pattern = \"abba\"\n",
    "s = \"dog cat cat dog\"\n",
    "o = Solution()\n",
    "o.wordPattern(pattern,s)"
   ]
  }
 ],
 "metadata": {
  "kernelspec": {
   "display_name": "Python 3",
   "language": "python",
   "name": "python3"
  },
  "language_info": {
   "codemirror_mode": {
    "name": "ipython",
    "version": 3
   },
   "file_extension": ".py",
   "mimetype": "text/x-python",
   "name": "python",
   "nbconvert_exporter": "python",
   "pygments_lexer": "ipython3",
   "version": "3.11.9"
  }
 },
 "nbformat": 4,
 "nbformat_minor": 2
}
