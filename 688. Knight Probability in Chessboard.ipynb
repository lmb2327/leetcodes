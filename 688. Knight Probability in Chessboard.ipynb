{
 "cells": [
  {
   "cell_type": "markdown",
   "metadata": {},
   "source": [
    "On an n x n chessboard, a knight starts at the cell (row, column) and attempts to make exactly k moves. The rows and columns are 0-indexed, so the top-left cell is (0, 0), and the bottom-right cell is (n - 1, n - 1).\n",
    "\n",
    "A chess knight has eight possible moves it can make, as illustrated below. Each move is two cells in a cardinal direction, then one cell in an orthogonal direction.\n",
    "\n",
    "\n",
    "Each time the knight is to move, it chooses one of eight possible moves uniformly at random (even if the piece would go off the chessboard) and moves there.\n",
    "\n",
    "The knight continues moving until it has made exactly k moves or has moved off the chessboard.\n",
    "\n",
    "Return the probability that the knight remains on the board after it has stopped moving.\n",
    "\n",
    " \n",
    "\n",
    "Example 1:\n",
    "\n",
    "Input: n = 3, k = 2, row = 0, column = 0\n",
    "Output: 0.06250\n",
    "Explanation: There are two moves (to (1,2), (2,1)) that will keep the knight on the board.\n",
    "From each of those positions, there are also two moves that will keep the knight on the board.\n",
    "The total probability the knight stays on the board is 0.0625."
   ]
  },
  {
   "cell_type": "code",
   "execution_count": 1,
   "metadata": {},
   "outputs": [],
   "source": [
    "class Solution:\n",
    "    def knightProbability(self, n: int, k: int, row: int, column: int) -> float:\n",
    "\n",
    "        def dp(cur_k, cur_r, cur_c):\n",
    "            if (cur_k,cur_r, cur_c) in memo:\n",
    "                return memo[(cur_k,cur_r,cur_c)]\n",
    "            \n",
    "            if cur_k == k:\n",
    "                return 1\n",
    "\n",
    "            ans = 0\n",
    "\n",
    "            for d in moves:\n",
    "                new_r = cur_r + d[0]\n",
    "                new_c = cur_c + d[1]\n",
    "\n",
    "                if 0 <= new_r < n and 0 <= new_c < n:\n",
    "                    ans += 0.125*dp(cur_k + 1, new_r, new_c)\n",
    "\n",
    "            memo[(cur_k,cur_r,cur_c)] = ans\n",
    "            return ans\n",
    "        \n",
    "        memo = {}\n",
    "        moves = [(1,2), (-1,2), (1,-2), (-1,-2), (2,1), (-2,1), (2,-1), (-2,-1)]\n",
    "\n",
    "        return dp(0,row,column)"
   ]
  },
  {
   "cell_type": "code",
   "execution_count": 2,
   "metadata": {},
   "outputs": [
    {
     "data": {
      "text/plain": [
       "0.0625"
      ]
     },
     "execution_count": 2,
     "metadata": {},
     "output_type": "execute_result"
    }
   ],
   "source": [
    "n = 3\n",
    "k = 2\n",
    "row = 0\n",
    "column = 0\n",
    "\n",
    "s= Solution()\n",
    "s.knightProbability(n,k,row,column)"
   ]
  }
 ],
 "metadata": {
  "kernelspec": {
   "display_name": "Python 3",
   "language": "python",
   "name": "python3"
  },
  "language_info": {
   "codemirror_mode": {
    "name": "ipython",
    "version": 3
   },
   "file_extension": ".py",
   "mimetype": "text/x-python",
   "name": "python",
   "nbconvert_exporter": "python",
   "pygments_lexer": "ipython3",
   "version": "3.11.9"
  }
 },
 "nbformat": 4,
 "nbformat_minor": 2
}
