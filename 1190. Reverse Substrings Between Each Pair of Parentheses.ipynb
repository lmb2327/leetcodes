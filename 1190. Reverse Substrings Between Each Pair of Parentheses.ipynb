{
 "cells": [
  {
   "cell_type": "markdown",
   "metadata": {},
   "source": [
    "medium"
   ]
  },
  {
   "cell_type": "markdown",
   "metadata": {},
   "source": [
    "You are given a string s that consists of lower case English letters and brackets.\n",
    "\n",
    "Reverse the strings in each pair of matching parentheses, starting from the innermost one.\n",
    "\n",
    "Your result should not contain any brackets.\n",
    "\n",
    " \n",
    "\n",
    "Example 1:\n",
    "\n",
    "Input: s = \"(abcd)\"\n",
    "Output: \"dcba\""
   ]
  },
  {
   "cell_type": "code",
   "execution_count": 9,
   "metadata": {},
   "outputs": [],
   "source": [
    "def reverseParentheses(s):\n",
    "    \"\"\"\n",
    "    :type s: str\n",
    "    :rtype: str\n",
    "    \"\"\"\n",
    "    stack = []\n",
    "    for char in s:\n",
    "        #iterate through characters until you find the closing parenthesis\n",
    "        if char == ')':\n",
    "            rev = \"\"\n",
    "\n",
    "            #iterate through your stack and add to rev each entry by popping the stack until you reach (\n",
    "            while stack and stack[-1] != '(':\n",
    "                rev += stack.pop()\n",
    "            \n",
    "            #Once you reach (, pop it as well, without adding it to rev\n",
    "            if stack:\n",
    "                stack.pop()  # pop the opening bracket\n",
    "            \n",
    "            #add everything to the stack, its now reversed since stack is first in last in first out\n",
    "            for c in rev:\n",
    "                stack.append(c)\n",
    "        else:\n",
    "            stack.append(char)\n",
    "\n",
    "        print(stack)\n",
    "        print(stack[-1])\n",
    "\n",
    "    #join so that it is a string\n",
    "    return ''.join(stack)\n",
    "        "
   ]
  },
  {
   "cell_type": "code",
   "execution_count": 10,
   "metadata": {},
   "outputs": [
    {
     "name": "stdout",
     "output_type": "stream",
     "text": [
      "['(']\n",
      "(\n",
      "['(', 'u']\n",
      "u\n",
      "['(', 'u', '(']\n",
      "(\n",
      "['(', 'u', '(', 'l']\n",
      "l\n",
      "['(', 'u', '(', 'l', 'o']\n",
      "o\n",
      "['(', 'u', '(', 'l', 'o', 'v']\n",
      "v\n",
      "['(', 'u', '(', 'l', 'o', 'v', 'e']\n",
      "e\n",
      "['(', 'u', 'e', 'v', 'o', 'l']\n",
      "l\n",
      "['(', 'u', 'e', 'v', 'o', 'l', 'i']\n",
      "i\n",
      "['i', 'l', 'o', 'v', 'e', 'u']\n",
      "u\n"
     ]
    },
    {
     "data": {
      "text/plain": [
       "'iloveu'"
      ]
     },
     "execution_count": 10,
     "metadata": {},
     "output_type": "execute_result"
    }
   ],
   "source": [
    "reverseParentheses(\"(u(love)i)\")"
   ]
  }
 ],
 "metadata": {
  "kernelspec": {
   "display_name": "Python 3",
   "language": "python",
   "name": "python3"
  },
  "language_info": {
   "codemirror_mode": {
    "name": "ipython",
    "version": 3
   },
   "file_extension": ".py",
   "mimetype": "text/x-python",
   "name": "python",
   "nbconvert_exporter": "python",
   "pygments_lexer": "ipython3",
   "version": "3.11.9"
  }
 },
 "nbformat": 4,
 "nbformat_minor": 2
}
